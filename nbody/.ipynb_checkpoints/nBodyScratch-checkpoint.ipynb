{
 "cells": [
  {
   "cell_type": "code",
   "execution_count": 6,
   "metadata": {},
   "outputs": [],
   "source": [
    "colorList=[]\n",
    "open(\"juliaColors.txt\",\"r\") do f\n",
    "    for line in eachline(f)\n",
    "        push!(colorList,line)\n",
    "    end\n",
    "end"
   ]
  },
  {
   "cell_type": "code",
   "execution_count": 9,
   "metadata": {},
   "outputs": [
    {
     "name": "stdout",
     "output_type": "stream",
     "text": [
      "aliceblue\n",
      "antiquewhite\n",
      "antiquewhite1\n",
      "antiquewhite2\n",
      "antiquewhite3\n",
      "antiquewhite4\n",
      "aqua\n",
      "aquamarine\n",
      "aquamarine1\n",
      "aquamarine2\n",
      "aquamarine3\n",
      "aquamarine4\n",
      "azure\n",
      "azure1\n",
      "azure2\n",
      "azure3\n",
      "azure4\n",
      "beige\n",
      "bisque\n",
      "bisque1\n",
      "bisque2\n",
      "bisque3\n",
      "bisque4\n",
      "black\n",
      "blanchedalmond\n",
      "blue\n",
      "blue1\n",
      "blue2\n",
      "blue3\n",
      "blue4\n",
      "blueviolet\n",
      "brown\n",
      "brown1\n",
      "brown2\n",
      "brown3\n",
      "brown4\n",
      "burlywood\n",
      "burlywood1\n",
      "burlywood2\n",
      "burlywood3\n",
      "burlywood4\n",
      "cadetblue\n",
      "cadetblue1\n",
      "cadetblue2\n",
      "cadetblue3\n",
      "cadetblue4\n",
      "chartreuse\n",
      "chartreuse1\n",
      "chartreuse2\n",
      "chartreuse3\n",
      "chartreuse4\n",
      "chocolate\n",
      "chocolate1\n",
      "chocolate2\n",
      "chocolate3\n",
      "chocolate4\n",
      "coral\n",
      "coral1\n",
      "coral2\n",
      "coral3\n",
      "coral4\n",
      "cornflowerblue\n",
      "cornsilk\n",
      "cornsilk1\n",
      "cornsilk2\n",
      "cornsilk3\n",
      "cornsilk4\n",
      "crimson\n",
      "cyan\n",
      "cyan1\n",
      "cyan2\n",
      "cyan3\n",
      "cyan4\n",
      "darkblue\n",
      "darkcyan\n",
      "darkgoldenrod\n",
      "darkgoldenrod1\n",
      "darkgoldenrod2\n",
      "darkgoldenrod3\n",
      "darkgoldenrod4\n",
      "darkgray\n",
      "darkgreen\n",
      "darkgrey\n",
      "darkkhaki\n",
      "darkmagenta\n",
      "darkolivegreen\n",
      "darkolivegreen1\n",
      "darkolivegreen2\n",
      "darkolivegreen3\n",
      "darkolivegreen4\n",
      "darkorange\n",
      "darkorange1\n",
      "darkorange2\n",
      "darkorange3\n",
      "darkorange4\n",
      "darkorchid\n",
      "darkorchid1\n",
      "darkorchid2\n",
      "darkorchid3\n",
      "darkorchid4\n",
      "darkred\n",
      "darksalmon\n",
      "darkseagreen\n",
      "darkseagreen1\n",
      "darkseagreen2\n",
      "darkseagreen3\n",
      "darkseagreen4\n",
      "darkslateblue\n",
      "darkslategray\n",
      "darkslategray1\n",
      "darkslategray2\n",
      "darkslategray3\n",
      "darkslategray4\n",
      "darkslategrey\n",
      "darkturquoise\n",
      "darkviolet\n",
      "deeppink\n",
      "deeppink1\n",
      "deeppink2\n",
      "deeppink3\n",
      "deeppink4\n",
      "deepskyblue\n",
      "deepskyblue1\n",
      "deepskyblue2\n",
      "deepskyblue3\n",
      "deepskyblue4\n",
      "dimgray\n",
      "dimgrey\n",
      "dodgerblue\n",
      "dodgerblue1\n",
      "dodgerblue2\n",
      "dodgerblue3\n",
      "dodgerblue4\n",
      "firebrick\n",
      "firebrick1\n",
      "firebrick2\n",
      "firebrick3\n",
      "firebrick4\n",
      "floralwhite\n",
      "fuchsia\n",
      "forestgreen\n",
      "gainsboro\n",
      "ghostwhite\n",
      "gold\n",
      "gold1\n",
      "gold2\n",
      "gold3\n",
      "gold4\n",
      "goldenrod\n",
      "goldenrod1\n",
      "goldenrod2\n",
      "goldenrod3\n",
      "goldenrod4\n",
      "gray\n",
      "gray0\n",
      "gray1\n",
      "gray2\n",
      "gray3\n",
      "gray4\n",
      "gray5\n",
      "gray6\n",
      "gray7\n",
      "gray8\n",
      "gray9\n",
      "gray10\n",
      "gray11\n",
      "gray12\n",
      "gray13\n",
      "gray14\n",
      "gray15\n",
      "gray16\n",
      "gray17\n",
      "gray18\n",
      "gray19\n",
      "gray20\n",
      "gray21\n",
      "gray22\n",
      "gray23\n",
      "gray24\n",
      "gray25\n",
      "gray26\n",
      "gray27\n",
      "gray28\n",
      "gray29\n",
      "gray30\n",
      "gray31\n",
      "gray32\n",
      "gray33\n",
      "gray34\n",
      "gray35\n",
      "gray36\n",
      "gray37\n",
      "gray38\n",
      "gray39\n",
      "gray40\n",
      "gray41\n",
      "gray42\n",
      "gray43\n",
      "gray44\n",
      "gray45\n",
      "gray46\n",
      "gray47\n",
      "gray48\n",
      "gray49\n",
      "gray50\n",
      "gray51\n",
      "gray52\n",
      "gray53\n",
      "gray54\n",
      "gray55\n",
      "gray56\n",
      "gray57\n",
      "gray58\n",
      "gray59\n",
      "gray60\n",
      "gray61\n",
      "gray62\n",
      "gray63\n",
      "gray64\n",
      "gray65\n",
      "gray66\n",
      "gray67\n",
      "gray68\n",
      "gray69\n",
      "gray70\n",
      "gray71\n",
      "gray72\n",
      "gray73\n",
      "gray74\n",
      "gray75\n",
      "gray76\n",
      "gray77\n",
      "gray78\n",
      "gray79\n",
      "gray80\n",
      "gray81\n",
      "gray82\n",
      "gray83\n",
      "gray84\n",
      "gray85\n",
      "gray86\n",
      "gray87\n",
      "gray88\n",
      "gray89\n",
      "gray90\n",
      "gray91\n",
      "gray92\n",
      "gray93\n",
      "gray94\n",
      "gray95\n",
      "gray96\n",
      "gray97\n",
      "gray98\n",
      "gray99\n",
      "gray100\n",
      "green\n",
      "green1\n",
      "green2\n",
      "green3\n",
      "green4\n",
      "greenyellow\n",
      "grey\n",
      "grey0\n",
      "grey1\n",
      "grey2\n",
      "grey3\n",
      "grey4\n",
      "grey5\n",
      "grey6\n",
      "grey7\n",
      "grey8\n",
      "grey9\n",
      "grey10\n",
      "grey11\n",
      "grey12\n",
      "grey13\n",
      "grey14\n",
      "grey15\n",
      "grey16\n",
      "grey17\n",
      "grey18\n",
      "grey19\n",
      "grey20\n",
      "grey21\n",
      "grey22\n",
      "grey23\n",
      "grey24\n",
      "grey25\n",
      "grey26\n",
      "grey27\n",
      "grey28\n",
      "grey29\n",
      "grey30\n",
      "grey31\n",
      "grey32\n",
      "grey33\n",
      "grey34\n",
      "grey35\n",
      "grey36\n",
      "grey37\n",
      "grey38\n",
      "grey39\n",
      "grey40\n",
      "grey41\n",
      "grey42\n",
      "grey43\n",
      "grey44\n",
      "grey45\n",
      "grey46\n",
      "grey47\n",
      "grey48\n",
      "grey49\n",
      "grey50\n",
      "grey51\n",
      "grey52\n",
      "grey53\n",
      "grey54\n",
      "grey55\n",
      "grey56\n",
      "grey57\n",
      "grey58\n",
      "grey59\n",
      "grey60\n",
      "grey61\n",
      "grey62\n",
      "grey63\n",
      "grey64\n",
      "grey65\n",
      "grey66\n",
      "grey67\n",
      "grey68\n",
      "grey69\n",
      "grey70\n",
      "grey71\n",
      "grey72\n",
      "grey73\n",
      "grey74\n",
      "grey75\n",
      "grey76\n",
      "grey77\n",
      "grey78\n",
      "grey79\n",
      "grey80\n",
      "grey81\n",
      "grey82\n",
      "grey83\n",
      "grey84\n",
      "grey85\n",
      "grey86\n",
      "grey87\n",
      "grey88\n",
      "grey89\n",
      "grey90\n",
      "grey91\n",
      "grey92\n",
      "grey93\n",
      "grey94\n",
      "grey95\n",
      "grey96\n",
      "grey97\n",
      "grey98\n",
      "grey99\n",
      "grey100\n",
      "honeydew\n",
      "honeydew1\n",
      "honeydew2\n",
      "honeydew3\n",
      "honeydew4\n",
      "hotpink\n",
      "hotpink1\n",
      "hotpink2\n",
      "hotpink3\n",
      "hotpink4\n",
      "indianred\n",
      "indianred1\n",
      "indianred2\n",
      "indianred3\n",
      "indianred4\n",
      "indigo\n",
      "ivory\n",
      "ivory1\n",
      "ivory2\n",
      "ivory3\n",
      "ivory4\n",
      "khaki\n",
      "khaki1\n",
      "khaki2\n",
      "khaki3\n",
      "khaki4\n",
      "lavender\n",
      "lavenderblush\n",
      "lavenderblush1\n",
      "lavenderblush2\n",
      "lavenderblush3\n",
      "lavenderblush4\n",
      "lawngreen\n",
      "lemonchiffon\n",
      "lemonchiffon1\n",
      "lemonchiffon2\n",
      "lemonchiffon3\n",
      "lemonchiffon4\n",
      "lightblue\n",
      "lightblue1\n",
      "lightblue2\n",
      "lightblue3\n",
      "lightblue4\n",
      "lightcoral\n",
      "lightcyan\n",
      "lightcyan1\n",
      "lightcyan2\n",
      "lightcyan3\n",
      "lightcyan4\n",
      "lightgoldenrod\n",
      "lightgoldenrod1\n",
      "lightgoldenrod2\n",
      "lightgoldenrod3\n",
      "lightgoldenrod4\n",
      "lightgoldenrodyellow\n",
      "lightgray\n",
      "lightgreen\n",
      "lightgrey\n",
      "lightpink\n",
      "lightpink1\n",
      "lightpink2\n",
      "lightpink3\n",
      "lightpink4\n",
      "lightsalmon\n",
      "lightsalmon1\n",
      "lightsalmon2\n",
      "lightsalmon3\n",
      "lightsalmon4\n",
      "lightseagreen\n",
      "lightskyblue\n",
      "lightskyblue1\n",
      "lightskyblue2\n",
      "lightskyblue3\n",
      "lightskyblue4\n",
      "lightslateblue\n",
      "lightslategray\n",
      "lightslategrey\n",
      "lightsteelblue\n",
      "lightsteelblue1\n",
      "lightsteelblue2\n",
      "lightsteelblue3\n",
      "lightsteelblue4\n",
      "lightyellow\n",
      "lightyellow1\n",
      "lightyellow2\n",
      "lightyellow3\n",
      "lightyellow4\n",
      "lime\n",
      "limegreen\n",
      "linen\n",
      "magenta\n",
      "magenta1\n",
      "magenta2\n",
      "magenta3\n",
      "magenta4\n",
      "maroon\n",
      "maroon1\n",
      "maroon2\n",
      "maroon3\n",
      "maroon4\n",
      "mediumaquamarine\n",
      "mediumblue\n",
      "mediumorchid\n",
      "mediumorchid1\n",
      "mediumorchid2\n",
      "mediumorchid3\n",
      "mediumorchid4\n",
      "mediumpurple\n",
      "mediumpurple1\n",
      "mediumpurple2\n",
      "mediumpurple3\n",
      "mediumpurple4\n",
      "mediumseagreen\n",
      "mediumslateblue\n",
      "mediumspringgreen\n",
      "mediumturquoise\n",
      "mediumvioletred\n",
      "midnightblue\n",
      "mintcream\n",
      "mistyrose\n",
      "mistyrose1\n",
      "mistyrose2\n",
      "mistyrose3\n",
      "mistyrose4\n",
      "moccasin\n",
      "navajowhite\n",
      "navajowhite1\n",
      "navajowhite2\n",
      "navajowhite3\n",
      "navajowhite4\n",
      "navy\n",
      "navyblue\n",
      "oldlace\n",
      "olive\n",
      "olivedrab\n",
      "olivedrab1\n",
      "olivedrab2\n",
      "olivedrab3\n",
      "olivedrab4\n",
      "orange\n",
      "orange1\n",
      "orange2\n",
      "orange3\n",
      "orange4\n",
      "orangered\n",
      "orangered1\n",
      "orangered2\n",
      "orangered3\n",
      "orangered4\n",
      "orchid\n",
      "orchid1\n",
      "orchid2\n",
      "orchid3\n",
      "orchid4\n",
      "palegoldenrod\n",
      "palegreen\n",
      "palegreen1\n",
      "palegreen2\n",
      "palegreen3\n",
      "palegreen4\n",
      "paleturquoise\n",
      "paleturquoise1\n",
      "paleturquoise2\n",
      "paleturquoise3\n",
      "paleturquoise4\n",
      "palevioletred\n",
      "palevioletred1\n",
      "palevioletred2\n",
      "palevioletred3\n",
      "palevioletred4\n",
      "papayawhip\n",
      "peachpuff\n",
      "peachpuff1\n",
      "peachpuff2\n",
      "peachpuff3\n",
      "peachpuff4\n",
      "peru\n",
      "pink\n",
      "pink1\n",
      "pink2\n",
      "pink3\n",
      "pink4\n",
      "plum\n",
      "plum1\n",
      "plum2\n",
      "plum3\n",
      "plum4\n",
      "powderblue\n",
      "purple\n",
      "purple1\n",
      "purple2\n",
      "purple3\n",
      "purple4\n",
      "rebeccapurple\n",
      "red\n",
      "red1\n",
      "red2\n",
      "red3\n",
      "red4\n",
      "rosybrown\n",
      "rosybrown1\n",
      "rosybrown2\n",
      "rosybrown3\n",
      "rosybrown4\n",
      "royalblue\n",
      "royalblue1\n",
      "royalblue2\n",
      "royalblue3\n",
      "royalblue4\n",
      "saddlebrown\n",
      "salmon\n",
      "salmon1\n",
      "salmon2\n",
      "salmon3\n",
      "salmon4\n",
      "sandybrown\n",
      "seagreen\n",
      "seagreen1\n",
      "seagreen2\n",
      "seagreen3\n",
      "seagreen4\n",
      "seashell\n",
      "seashell1\n",
      "seashell2\n",
      "seashell3\n",
      "seashell4\n",
      "sienna\n",
      "sienna1\n",
      "sienna2\n",
      "sienna3\n",
      "sienna4\n",
      "silver\n",
      "skyblue\n",
      "skyblue1\n",
      "skyblue2\n",
      "skyblue3\n",
      "skyblue4\n",
      "slateblue\n",
      "slateblue1\n",
      "slateblue2\n",
      "slateblue3\n",
      "slateblue4\n",
      "slategray\n",
      "slategray1\n",
      "slategray2\n",
      "slategray3\n",
      "slategray4\n",
      "slategrey\n",
      "snow\n",
      "snow1\n",
      "snow2\n",
      "snow3\n",
      "snow4\n",
      "springgreen\n",
      "springgreen1\n",
      "springgreen2\n",
      "springgreen3\n",
      "springgreen4\n",
      "steelblue\n",
      "steelblue1\n",
      "steelblue2\n",
      "steelblue3\n",
      "steelblue4\n",
      "tan\n",
      "tan1\n",
      "tan2\n",
      "tan3\n",
      "tan4\n",
      "teal\n",
      "thistle\n",
      "thistle1\n",
      "thistle2\n",
      "thistle3\n",
      "thistle4\n",
      "tomato\n",
      "tomato1\n",
      "tomato2\n",
      "tomato3\n",
      "tomato4\n",
      "turquoise\n",
      "turquoise1\n",
      "turquoise2\n",
      "turquoise3\n",
      "turquoise4\n",
      "violet\n",
      "violetred\n",
      "violetred1\n",
      "violetred2\n",
      "violetred3\n",
      "violetred4\n",
      "wheat\n",
      "wheat1\n",
      "wheat2\n",
      "wheat3\n",
      "wheat4\n",
      "white\n",
      "whitesmoke\n",
      "yellow\n",
      "yellow1\n",
      "yellow2\n",
      "yellow3\n",
      "yellow4\n",
      "yellowgreen\n"
     ]
    }
   ],
   "source": [
    "for color in colorList\n",
    "    println(color)\n",
    "end"
   ]
  },
  {
   "cell_type": "code",
   "execution_count": null,
   "metadata": {},
   "outputs": [],
   "source": [
    "r,rad,m=initCondGen(9)"
   ]
  },
  {
   "cell_type": "code",
   "execution_count": 22,
   "metadata": {},
   "outputs": [
    {
     "ename": "UndefVarError",
     "evalue": "UndefVarError: r not defined",
     "output_type": "error",
     "traceback": [
      "UndefVarError: r not defined",
      "",
      "Stacktrace:",
      " [1] top-level scope at In[22]:1"
     ]
    }
   ],
   "source": [
    "dR(r,m)"
   ]
  },
  {
   "cell_type": "code",
   "execution_count": 47,
   "metadata": {},
   "outputs": [
    {
     "ename": "MethodError",
     "evalue": "MethodError: no method matching Array(::Tuple{DataType,DataType}, ::Int64)\nClosest candidates are:\n  Array(!Matched::LinearAlgebra.UniformScaling, ::Integer, !Matched::Integer) at /buildworker/worker/package_linux64/build/usr/share/julia/stdlib/v1.4/LinearAlgebra/src/uniformscaling.jl:407",
     "output_type": "error",
     "traceback": [
      "MethodError: no method matching Array(::Tuple{DataType,DataType}, ::Int64)\nClosest candidates are:\n  Array(!Matched::LinearAlgebra.UniformScaling, ::Integer, !Matched::Integer) at /buildworker/worker/package_linux64/build/usr/share/julia/stdlib/v1.4/LinearAlgebra/src/uniformscaling.jl:407",
      "",
      "Stacktrace:",
      " [1] top-level scope at In[47]:1"
     ]
    }
   ],
   "source": [
    "test=Array((Float64,Float64),10)"
   ]
  },
  {
   "cell_type": "code",
   "execution_count": 60,
   "metadata": {},
   "outputs": [
    {
     "data": {
      "text/plain": [
       "false"
      ]
     },
     "execution_count": 60,
     "metadata": {},
     "output_type": "execute_result"
    }
   ],
   "source": [
    "x=[1,1,1,0]\n",
    "all(x.==1)"
   ]
  },
  {
   "cell_type": "code",
   "execution_count": null,
   "metadata": {},
   "outputs": [],
   "source": []
  },
  {
   "cell_type": "code",
   "execution_count": 6,
   "metadata": {},
   "outputs": [
    {
     "data": {
      "text/plain": [
       "dR (generic function with 1 method)"
      ]
     },
     "execution_count": 6,
     "metadata": {},
     "output_type": "execute_result"
    }
   ],
   "source": [
    "using Plots, Random, Printf\n",
    "\n",
    "function initCondGen(nBodies) #get random initial conditions for mass/radius, position, and velocity\n",
    "    m=rand(1:1500,nBodies)./10 #n random masses between 0.1 and 150 solar masses\n",
    "    rad=m.^0.8 #3 radii based on masses in solar units\n",
    "    m=m.*2e30 #convert to SI kg\n",
    "    rad=rad.*7e8 #convert to SI m\n",
    "    posList=[]\n",
    "    function checkPos(randPos,n,posList,rad)\n",
    "        for i=2:(n-1)\n",
    "            dist=sqrt((posList[i][1]-randPos[1])^2+(posList[i][2]-randPos[2])^2)\n",
    "            if (dist*1.5e11)<(rad[n]+rad[i])\n",
    "                return false\n",
    "            end\n",
    "        end\n",
    "        return true\n",
    "    end\n",
    "    function genPos(nBodies,posList,rad)\n",
    "        push!(posList,rand(-35:35,2)) #random initial x,y coords for 1st body, 70 AU box width\n",
    "        for n=2:nBodies\n",
    "            acceptPos=false\n",
    "            while acceptPos==false\n",
    "                randPos=rand(-35:35,2)\n",
    "                acceptPos=checkPos(randPos,n,posList,rad)\n",
    "                if acceptPos==true\n",
    "                    push!(posList,randPos)\n",
    "                end\n",
    "            end\n",
    "        end\n",
    "        return posList\n",
    "    end\n",
    "    pos=genPos(nBodies,posList,rad).*1.5e11 #convert to SI, m\n",
    "    v=[]\n",
    "    for n=1:nBodies\n",
    "        push!(v,rand(-7e3:7e3,2)) #random x & y velocity between -7:7 km/s\n",
    "    end\n",
    "    r=[]\n",
    "    for n=1:nBodies\n",
    "        push!(r,pos[n])\n",
    "    end\n",
    "    for n=1:nBodies\n",
    "        push!(r,v[n])\n",
    "    end\n",
    "  #  open(\"initCond.txt\",\"w\") do f #save initial conditions to file in folder where script is run\n",
    "   #     write(f,\"m1=$(@sprintf(\"%.1f\",(m[1]/2e30))) m2=$(@sprintf(\"%.1f\",(m[2]/2e30))) m3=$(@sprintf(\"%.1f\",(m[3]/2e30))) (solar masses)\\nv1x=$(v[1]/1e3) v1y=$(v[2]/1e3) v2x=$(v[3]/1e3) v2y=$(v[4]/1e3) v3x=$(v[5]/1e3) v3y=$(v[6]/1e3) (km/s)\\nx1=$(pos1[1]) y1=$(pos1[2]) x2=$(pos2[1]) y2=$(pos2[2]) x3=$(pos3[1]) y3=$(pos3[2]) (AU from center)\")\n",
    "   # end\n",
    "    return [r, rad, m]\n",
    "end\n",
    "\n",
    "function dR(r,m,nBodies) #function we will use RK4 on to approximate solution\n",
    "    G=6.67408313131313e-11# Nm^2/kg^2\n",
    "    C=m.*G #Nm^2/kg\n",
    "    function getDist(pos1,pos2)\n",
    "        x1,y1=pos1[1],pos1[2]\n",
    "        x2,y2=pos2[1],pos2[2]\n",
    "        dist=sqrt((x1-x2)^2+(y1-y2)^2)\n",
    "        return dist\n",
    "    end\n",
    "    function getDv(C,n,r,nBodies)\n",
    "        pos=r[1:nBodies]\n",
    "        dVx=0\n",
    "        dVy=0\n",
    "        for i=1:nBodies\n",
    "            if i!=n\n",
    "                dist=getDist(pos[n],pos[i])\n",
    "               # println(\"dist at i = $i : $(dist/1.5e11)\")\n",
    "                c=C[i]\n",
    "                dVx-=c*(pos[n][1]-pos[i][1])/dist^3\n",
    "                dVy-=c*(pos[n][2]-pos[i][2])/dist^3\n",
    "            end\n",
    "        end\n",
    "       # println(\"dVx for n = $n: $(dVx)\")\n",
    "        return [dVx,dVy]\n",
    "    end\n",
    "\n",
    "    rUpdate=copy(r) #otherwise we modify r in place\n",
    "    dr=r[(nBodies+1):nBodies*2] #old v*dt = dr\n",
    "    dv=[]\n",
    "    for n=1:nBodies\n",
    "        dVn=getDv(C,n,r,nBodies)\n",
    "        push!(dv,dVn)\n",
    "    end\n",
    "    rUpdate[1:nBodies]=dr[1:nBodies] #update positions\n",
    "    rUpdate[(nBodies+1):nBodies*2]=dv[1:nBodies] #update velocities\n",
    "    return rUpdate\n",
    "end"
   ]
  },
  {
   "cell_type": "code",
   "execution_count": 7,
   "metadata": {},
   "outputs": [
    {
     "data": {
      "text/plain": [
       "genNBodyStep (generic function with 3 methods)"
      ]
     },
     "execution_count": 7,
     "metadata": {},
     "output_type": "execute_result"
    }
   ],
   "source": [
    "function checkSep(xList,yList,nBodies,i,m,r,rad,names,colors,maxSep)\n",
    "                sepList=[]\n",
    "                for n1=1:nBodies\n",
    "                    for n2=(n1+1):nBodies\n",
    "                        x1,y1=xList[n1][i],yList[n1][i]\n",
    "                        x2,y2=xList[n2][i],yList[n2][i]\n",
    "                        sep=sqrt((x1-x2)^2+(y1-y2)^2)\n",
    "                        push!(sepList,sep)\n",
    "                        minSep=rad[n1]+rad[n2]\n",
    "                        if sep<minSep\n",
    "                            sharedX=(x1+x2)/2\n",
    "                            sharedY=(y1+y2)/2\n",
    "                            p1x,p1y=m[n1]*r[n1+nBodies][1],m[n1]*r[n1+nBodies][2] #get momenta\n",
    "                            p2x,p2y=m[n2]*r[n2+nBodies][1],m[n2]*r[n2+nBodies][2]\n",
    "                            pTotx,pToty=p1x+p2x,p1y+p2y\n",
    "                            newMass=m[n1]+m[n2]\n",
    "                            sharedVfX=pTotx/(newMass) #perfectly inelastic collision\n",
    "                            sharedVfY=pToty/(newMass)\n",
    "                            r[n1][1]=sharedX #replace coordinates of one of the old bodies with new shared coords\n",
    "                            r[n1][2]=sharedY\n",
    "                            r[n1+nBodies][1]=sharedVfX #ditto for velocity\n",
    "                            r[n1+nBodies][2]=sharedVfY\n",
    "                            r[n2]=true #mark for removal\n",
    "                            r[n2+nBodies]=true\n",
    "                            filter!(x->x!=true,r) #filter and remove n2 entries\n",
    "                            split1,split2=split(names[n1]),split(names[n2])\n",
    "                            if split1[end]==\"hole\"\n",
    "                                names[n1]=names[n1][1:(end-11)]\n",
    "                            elseif split2[end]==\"hole\"\n",
    "                                names[n2]=names[n2][1:(end-11)]\n",
    "                            end\n",
    "                            newName=string(names[n1],\" & \",names[n2],\" black hole\")\n",
    "                            \n",
    "                            names[n1]=newName\n",
    "                            deleteat!(names,n2)\n",
    "                            deleteat!(colors,n2)\n",
    "                            m[n1]=newMass #update mass to reflect merger\n",
    "                            deleteat!(m,n2) #delete the other\n",
    "                            newRad=2*(6.6743015e-11)*newMass/(9e16) #schwarzschild radius\n",
    "                            rad[n1]=newRad #update radii list to reflect merger\n",
    "                            deleteat!(rad,n2)\n",
    "                            return true,r,nBodies-1,names,colors,m,rad\n",
    "                        end\n",
    "                    end\n",
    "                end\n",
    "                if minimum(sepList)>maxSep*1.5e11\n",
    "                    return true,r,nBodies,names,colors,m,rad #stop if everybody flew away\n",
    "                end\n",
    "                return false,r,nBodies,names,colors,m,rad\n",
    "            end\n",
    "function genNBodyStep(nBodies, physInfo, names, colors, stopCond=[10,100],dt=0.033) #default stop conditions of 10 yrs and 100 AU sep\n",
    "    tStop=stopCond[1]*365*24*3600 #convert to SI s\n",
    "    sepStop=stopCond[2]*1.5e11 #convert to SI m\n",
    "    stop=false\n",
    "    numSteps=Int(ceil(stopCond[1]/dt))\n",
    "    t=range(0,stop=tStop,length=(numSteps+1)) #+1 because I don't want 0 to count\n",
    "    stepSize=dt*365*24*3600 #convert to SI s\n",
    "    xList=[]\n",
    "    yList=[]\n",
    "    for n=1:nBodies\n",
    "        push!(xList,zeros(length(t)))\n",
    "        push!(yList,zeros(length(t)))\n",
    "    end\n",
    "    r,rad,m=copy(physInfo[1]),copy(physInfo[2]),copy(physInfo[3]) #need copy because otherwise they're just pointers\n",
    "    colors=copy(colors) #same reasoning as above\n",
    "    names=copy(names)\n",
    "    i=1\n",
    "    currentT=t[i]\n",
    "    #implement RK4 to model solutions to differential equations\n",
    "    while stop==false\n",
    "        if currentT>=tStop #in case of rounding error or something\n",
    "            stop=true\n",
    "        elseif i>(numSteps+1) #inf loop failsafe\n",
    "            stop=true\n",
    "            println(\"error: shouldn't have gotten here\")\n",
    "        else\n",
    "            for n=1:nBodies\n",
    "                xList[n][i]=r[n][1]\n",
    "                yList[n][i]=r[n][2]\n",
    "            end\n",
    "            k1=stepSize.*dR(r,m,nBodies)\n",
    "            k2=stepSize.*dR(r.+0.5.*k1,m,nBodies)\n",
    "            k3=stepSize.*dR(r.+0.5.*k2,m,nBodies)\n",
    "            k4=stepSize.*dR(r.+k3,m,nBodies)\n",
    "            r.+=(k1.+2.0.*k2.+2.0.*k3.+k4)./6\n",
    "            #check separation after each dt step\n",
    "            stop,r,nBodies,names,colors,m,rad=checkSep(xList,yList,nBodies,i,m,r,rad,names,colors,sepStop)\n",
    "            if stop==true\n",
    "                t=range(0,stop=currentT,length=i) #t should match pos vectors\n",
    "                for n=1:(nBodies+1)\n",
    "                    xList[n]=xList[n][1:i]\n",
    "                    yList[n]=yList[n][1:i]\n",
    "                end\n",
    "            else\n",
    "                i+=1\n",
    "                currentT=t[i]\n",
    "            end\n",
    "        end\n",
    "    end\n",
    "    return ([xList, yList, t], [r, rad, m], nBodies, names, colors, currentT/365/24/3600)\n",
    "end"
   ]
  },
  {
   "cell_type": "code",
   "execution_count": 86,
   "metadata": {},
   "outputs": [
    {
     "data": {
      "text/plain": [
       "10.0"
      ]
     },
     "execution_count": 86,
     "metadata": {},
     "output_type": "execute_result"
    }
   ],
   "source": [
    "nBodies=7\n",
    "names=[\"$i\" for i=1:nBodies]\n",
    "randInd=rand(1:length(colorList),nBodies)\n",
    "colors=[colorList[i] for i in randInd]\n",
    "physInfo=initCondGen(nBodies)\n",
    "plotInfo,physInfo,nBodies,names,colors,t=genNBodyStep(nBodies,physInfo,names,colors,[10,100],0.033)\n",
    "t"
   ]
  },
  {
   "cell_type": "code",
   "execution_count": 8,
   "metadata": {},
   "outputs": [
    {
     "data": {
      "text/plain": [
       "genNBody (generic function with 1 method)"
      ]
     },
     "execution_count": 8,
     "metadata": {},
     "output_type": "execute_result"
    }
   ],
   "source": [
    "#nBodies=7\n",
    "#names=[\"$i\" for i=1:nBodies]\n",
    "#randInd=rand(1:length(colorList),nBodies)\n",
    "#colors=[colorList[i] for i in randInd]\n",
    "\n",
    "function genNBody(nBodies, names, colors; stopCond=[10,100],dt=0.033)\n",
    "    physInfo=initCondGen(nBodies)\n",
    "    globalT=0\n",
    "    stopT=stopCond[1] #yrs\n",
    "    numTrials=0\n",
    "    plotList=[]\n",
    "    tOffsets=[0.0]\n",
    "    namesList=[names]\n",
    "    colorsList=[colors]\n",
    "    physInfoList=[]\n",
    "    while globalT<stopT && nBodies>1\n",
    "        rad,m=physInfo[2],physInfo[3]\n",
    "        plotInfo,newPhysInfo,nBodies,names,colors,t=genNBodyStep(nBodies,physInfo,names,colors,[stopT-globalT,stopCond[2]],dt)\n",
    "        globalT+=t\n",
    "        numTrials+=1\n",
    "        println(\"number of output files at this step: $(ceil(t/dt))\")\n",
    "        push!(tOffsets,globalT)\n",
    "        push!(plotList,plotInfo)\n",
    "        push!(namesList,names)\n",
    "        push!(colorsList,colors)\n",
    "        push!(physInfoList,[rad,m]) #we don't need to save r because that happens in x & y\n",
    "        physInfo=newPhysInfo\n",
    "    end\n",
    "    deleteat!(tOffsets,length(tOffsets))#we don't want the last thing here \n",
    "    println(\"made it $globalT years with $nBodies surviving\")\n",
    "    return numTrials,plotList,tOffsets,physInfoList,namesList,colorsList\n",
    "end\n",
    "\n",
    "#nTrials,plotList,tOffsets,physInfoList,namesList,colorsList=genNBody(nBodies,names,colors,dt=0.033/64)\n",
    "#tOffsets"
   ]
  },
  {
   "cell_type": "markdown",
   "metadata": {},
   "source": []
  },
  {
   "cell_type": "code",
   "execution_count": 21,
   "metadata": {},
   "outputs": [
    {
     "data": {
      "text/plain": [
       "4-element Array{Any,1}:\n",
       "      3.714090265253893e10\n",
       " 403424.44622222224\n",
       " 522968.60197777784\n",
       " 815154.6898666667"
      ]
     },
     "execution_count": 21,
     "metadata": {},
     "output_type": "execute_result"
    }
   ],
   "source": [
    "physInfoList[end][1]"
   ]
  },
  {
   "cell_type": "code",
   "execution_count": 30,
   "metadata": {},
   "outputs": [
    {
     "data": {
      "text/plain": [
       "getInterestingNBody (generic function with 1 method)"
      ]
     },
     "execution_count": 30,
     "metadata": {},
     "output_type": "execute_result"
    }
   ],
   "source": [
    "function getInterestingNBody(nBodies,names,colors; minTime=0,stopCond=[10,100],dt=0.033,iMax=10) #in years, defaults to 0\n",
    "    #sometimes random conditions result in a really short animation where things\n",
    "    #just crash into each other/fly away, so this function throws away those\n",
    "    yearSec=365*24*3600\n",
    "    interesting=false\n",
    "    i=1\n",
    "    while interesting==false\n",
    "        nTrials,plotList,tOffsets,physInfoList,namesList,colorsList=genNBody(nBodies,names,colors,stopCond=stopCond,dt=dt)\n",
    "        stopT=tOffsets[end]+plotList[end][3][end]/yearSec\n",
    "        if (stopT)>=minTime #only return if simulation runs for longer than minTime\n",
    "            println(\"total time: \",stopT) #tell me how many years we are simulating\n",
    "            open(\"cron_log.txt\",\"a\") do f #for cron logging, a flag = append\n",
    "                write(f,\"$(stopT)\\n\")\n",
    "            end\n",
    "            return nTrials,plotList,tOffsets,physInfoList,namesList,colorsList\n",
    "            interesting=true\n",
    "        elseif i>iMax #computationally expensive so don't want to go forever\n",
    "            interesting=true #render it anyways I guess because sometimes it's fun?\n",
    "            println(\"did not find interesting solution in number of tries allotted, running anyways\")\n",
    "            println(\"total time: \",stopT) #how many years simulation runs for\n",
    "            open(\"cron_log.txt\",\"a\") do f #for cron logging\n",
    "                write(f,\"$(stopT)\\n\")\n",
    "            end\n",
    "            return nTrials,plotList,tOffsets,physInfoList,namesList,colorsList\n",
    "        end\n",
    "        i+=1\n",
    "    end\n",
    "end\n",
    "#nBodies=7\n",
    "#names=[\"$i\" for i=1:nBodies]\n",
    "#randInd=rand(1:length(colorList),nBodies)\n",
    "#colors=[colorList[i] for i in randInd]\n",
    "#nTrials,plotList,tOffsets,physInfoList,namesList,colorsList=getInterestingNBody(nBodies,names,colors,dt=0.033/64)\n",
    "#colorsList[1]"
   ]
  },
  {
   "cell_type": "code",
   "execution_count": 10,
   "metadata": {},
   "outputs": [
    {
     "data": {
      "text/plain": [
       "getLims (generic function with 1 method)"
      ]
     },
     "execution_count": 10,
     "metadata": {},
     "output_type": "execute_result"
    }
   ],
   "source": [
    "function getLims(xList,yList,padding,maxFrame) #determines plot limits at each frame, padding in units of pos\n",
    "    xMin=minimum(xList)\n",
    "    xMax=maximum(xList)\n",
    "    dx=xMax-xMin\n",
    "    yMin=minimum(yList)\n",
    "    yMax=maximum(yList)\n",
    "    dy=yMax-yMin\n",
    "    \n",
    "    if dx>dy && dx<maxFrame\n",
    "        #use x for square\n",
    "        xlims=[xMin-padding,xMax+padding]\n",
    "        ylims=[yMin-padding,yMin+dx+padding]\n",
    "    elseif dy>dx &&dy<maxFrame\n",
    "        #use y for square\n",
    "        xlims=[xMin-padding,xMin+dy+padding]\n",
    "        ylims=[yMin-padding,yMax+padding]\n",
    "    else\n",
    "        sep=[]\n",
    "        ind=[]\n",
    "        for i=1:length(xList)\n",
    "            for j=(i+1):length(xList)\n",
    "                dist=sqrt((xList[i]-xList[j])^2 + (yList[i]-yList[j])^2)\n",
    "                push!(sep,dist)\n",
    "                push!(ind,[i,j])\n",
    "            end\n",
    "        end\n",
    "        closestInd=argmin(sep)\n",
    "        i,j=ind[closestInd]\n",
    "        centerX=(xList[i]+xList[j])/2 #center on the closest remaining pair\n",
    "        centerY=(yList[i]+yList[j])/2 \n",
    "        xlims=[centerX-maxFrame/2-padding,centerX+maxFrame/2+padding]#keep padding to be consistent w/above\n",
    "        ylims=[centerY-maxFrame/2-padding,centerY+maxFrame/2+padding]#even though it makes maxFrame not really max frame\n",
    "    end\n",
    "    return xlims,ylims\n",
    "end"
   ]
  },
  {
   "cell_type": "code",
   "execution_count": 115,
   "metadata": {},
   "outputs": [
    {
     "data": {
      "text/plain": [
       "7-element Array{Float64,1}:\n",
       "  42.6174809045198\n",
       "  20.766975985513042\n",
       " -20.56725149146227\n",
       " -20.71533208648798\n",
       " -25.841467748264737\n",
       "   4.209221416031496\n",
       "   9.305627086359042"
      ]
     },
     "execution_count": 115,
     "metadata": {},
     "output_type": "execute_result"
    }
   ],
   "source": [
    "xTest"
   ]
  },
  {
   "cell_type": "code",
   "execution_count": 116,
   "metadata": {},
   "outputs": [
    {
     "data": {
      "text/plain": [
       "([-35.84146774826473, 52.6174809045198], [-28.879758631851416, 59.579190020933126])"
      ]
     },
     "execution_count": 116,
     "metadata": {},
     "output_type": "execute_result"
    }
   ],
   "source": [
    "xTest=zeros(length(plotInfo[1]))\n",
    "yTest=zeros(length(plotInfo[2]))\n",
    "for i=1:length(xTest)\n",
    "    xTest[i]=plotInfo[1][i][end]/1.5e11\n",
    "    yTest[i]=plotInfo[2][i][end]/1.5e11\n",
    "end\n",
    "xlims,ylims=getLims(xTest,yTest,10,100)"
   ]
  },
  {
   "cell_type": "code",
   "execution_count": 55,
   "metadata": {},
   "outputs": [
    {
     "name": "stdout",
     "output_type": "stream",
     "text": [
      "number of output files at this step: 12050.0\n",
      "number of output files at this step: 26842.0\n",
      "number of output files at this step: 461108.0\n",
      "number of output files at this step: 1.0\n",
      "made it 50.0 years with 5 surviving\n",
      "total time: 50.0\n",
      "plotting step 1 of 4\n",
      "plotting step 2 of 4\n",
      "plotting step 3 of 4\n",
      "plotting step 4 of 4\n",
      "50.00 % complete\r"
     ]
    }
   ],
   "source": [
    "function makeCircleVals(r,center=[0,0])\n",
    "    xOffset=center[1]\n",
    "    yOffset=center[2]\n",
    "    xVals=[r*cos(i)+xOffset for i=0:(pi/64):(2*pi)]\n",
    "    yVals=[r*sin(i)+yOffset for i=0:(pi/64):(2*pi)]\n",
    "    return xVals,yVals\n",
    "end\n",
    "labels=[\"Joe\",\"Liza\",\"Amy\",\"Richard\",\"Ted\",\"Dave\",\"Morgan\"] #joe is grandma\n",
    "names=copy(labels)\n",
    "nBodies=7\n",
    "nBodies0=copy(nBodies)\n",
    "randInd=rand(1:length(colorList),nBodies)\n",
    "colors=[colorList[i] for i in randInd]\n",
    "nTrials,plotList,tOffsets,physInfoList,namesList,colorsList=getInterestingNBody(nBodies,names,colors,dt=0.0001,stopCond=[50,100],minTime=40)\n",
    "nBodiesList=[nBodies0-i for i=0:(nTrials-1)]\n",
    "#adding fake stars\n",
    "numStars=2500\n",
    "starsX=zeros(numStars)\n",
    "starsY=zeros(numStars)\n",
    "function getMax(plotList,ind)\n",
    "    MAX=0\n",
    "    for i=1:length(plotList)\n",
    "        for j=1:length(plotList[end][ind])\n",
    "            localMax=maximum(plotList[i][ind][j])\n",
    "            if localMax>MAX\n",
    "                MAX=localMax\n",
    "            end\n",
    "        end\n",
    "    end\n",
    "    return MAX/1.5e11\n",
    "end\n",
    "function getMin(plotList,ind)\n",
    "    MIN=0\n",
    "    for i=1:length(plotList)\n",
    "        for j=1:length(plotList[end][ind])\n",
    "            localMin=minimum(plotList[i][ind][j])\n",
    "            if localMin<MIN\n",
    "                MIN=localMin\n",
    "            end\n",
    "        end\n",
    "    end\n",
    "    return MIN/1.5e11\n",
    "end\n",
    "minMax=zeros(4)\n",
    "minMax[1],minMax[2]=getMax(plotList,1),getMax(plotList,2)\n",
    "minMax[3],minMax[4]=getMin(plotList,1),getMin(plotList,2)\n",
    "boxMin=floor(minimum(minMax))\n",
    "boxMax=ceil(maximum(minMax))\n",
    "for i=1:numStars\n",
    "    num=rand(boxMin:boxMax,2) #box size is 70 AU but we need some extra padding for movement\n",
    "    starsX[i]=num[1]\n",
    "    starsY[i]=num[2]\n",
    "end\n",
    "\n",
    "#this new way runs significantly faster (~2x improvement over @anim)\n",
    "#Downside is it spams folder with png images of every frame and must manually compile with ffmpeg\n",
    "#Comment out and use older way (after this below) if performance/specific formatting is not an issue\n",
    "function plotSection(sectionNum,backData,oldI,oldColors,offsets,dt,nBodies,plotInfo,physInfo,labels,colors,maxFrame)\n",
    "    colorSymbols=[Symbol(color) for color in colors]\n",
    "    oldColorSymbols=[Symbol(color) for color in oldColors]\n",
    "    skipRate=Int(floor(1/dt/30)) #30 fps\n",
    "    rad=physInfo[1]\n",
    "    m=physInfo[2]\n",
    "    xData=plotInfo[1]\n",
    "    yData=plotInfo[2]\n",
    "    t=plotInfo[3]\n",
    "    tOffset=offsets[1]\n",
    "    plotNum=offsets[2]\n",
    "    I=0\n",
    "    \n",
    "    for i=1:skipRate:length(t) #this makes animation scale ~1 sec/year with other conditions\n",
    "        GR.inline(\"png\") #added to eneable cron/jobber compatibility, also this makes frames generate WAY faster? Prior to adding this when run from cron/jobber frames would stop generating at 408 for some reason.\n",
    "        gr(legendfontcolor = plot_color(:white)) #legendfontcolor=:white plot arg broken right now (at least in this backend)\n",
    "        if sectionNum>1 \n",
    "           # iOffset=length(backData[1][1])\n",
    "            p=plot(backData[1][1]./1.5e11,backData[1][2]./1.5e11,label=\"\",linecolor=oldColorSymbols[1],linealpha=max.((1:Int(floor(skipRate)):oldI) .+ 10000 .- (oldI+i),2500)/10000)\n",
    "            for n=2:(nBodies+1) #old list has +1 bodies\n",
    "                p=plot!(backData[n][1]./1.5e11,backData[n][2]./1.5e11,label=\"\",linecolor=oldColorSymbols[n],linealpha=max.((1:Int(floor(skipRate)):oldI) .+ 10000 .- (oldI+i),2500)/10000)\n",
    "            end\n",
    "        else\n",
    "            p=plot()\n",
    "        end\n",
    "        print(\"$(@sprintf(\"%.2f\",i/length(t)*100)) % complete\\r\") #output percent tracker\n",
    "        x=[]\n",
    "        y=[]\n",
    "        iOffset=i\n",
    "        for n=1:nBodies\n",
    "            push!(x,xData[n][i]/1.5e11)\n",
    "            push!(y,yData[n][i]/1.5e11)\n",
    "        end\n",
    "        limx,limy=getLims(x,y,10,maxFrame) #10 AU padding\n",
    "        \n",
    "        p=plot!(xData[1][1:Int(floor(skipRate/10)):i]./1.5e11,yData[1][1:Int(floor(skipRate/10)):i]./1.5e11,label=\"\",linecolor=colorSymbols[1],linealpha=max.((1:Int(floor(skipRate/10)):i) .+ 10000 .- i,2500)/10000)\n",
    "        for n=2:nBodies\n",
    "            p=plot!(xData[n][1:Int(floor(skipRate/10)):i]./1.5e11,yData[n][1:Int(floor(skipRate/10)):i]./1.5e11,label=\"\",linecolor=colorSymbols[n],linealpha=max.((1:Int(floor(skipRate/10)):i) .+ 10000 .- i,2500)/10000)\n",
    "        end\n",
    "        p=scatter!(starsX,starsY,markercolor=:white,markersize=:1,label=\"\") #fake background stars\n",
    "        for n=1:nBodies\n",
    "            circleX,circleY=makeCircleVals(rad[n],[xData[n][i],yData[n][i]])\n",
    "            if split(labels[n])[end]==\"hole\"\n",
    "                fillColor=:black\n",
    "            else\n",
    "                fillColor=colorSymbols[n]\n",
    "            end\n",
    "            p=plot!(circleX./1.5e11,circleY./1.5e11,label=labels[n],color=colorSymbols[n],fill=true,fillcolor=fillColor)\n",
    "        end\n",
    "\n",
    "        p=plot!(background_color=:black,background_color_legend=:transparent,foreground_color_legend=:transparent,\n",
    "            background_color_outside=:white,aspect_ratio=:equal,legendtitlefontcolor=:white) #formatting for plot frame\n",
    "        currentT=t[i]/365/24/3600+tOffset\n",
    "        p=plot!(xlabel=\"x: AU\",ylabel=\"y: AU\",title=\"Random Long Body Problem\\nt: $(@sprintf(\"%0.2f\",currentT)) yrs after start\",\n",
    "            legend=:best,xaxis=(\"x: AU\",(limx[1],limx[2]),font(9,\"Courier\")),yaxis=(\"y: AU\",(limy[1],limy[2]),font(9,\"Courier\")),\n",
    "            grid=false,titlefont=font(14,\"Courier\"),size=(720,721),legendfontsize=8,legendtitle=\"Contestants\",legendtitlefontsize=8) #add in axes/title/legend with formatting\n",
    "        plotNum+=1\n",
    "        png(p,@sprintf(\"tmpPlots/frame_%06d.png\",plotNum))\n",
    "        closeall() #close plots\n",
    "        I+=skipRate\n",
    "    end\n",
    "    if I>10000 \n",
    "        I=10000\n",
    "    end\n",
    "    backData=[]\n",
    "    for n=1:nBodies\n",
    "        xBack=xData[n][1:Int(floor(skipRate/10)):end]\n",
    "        yBack=yData[n][1:Int(floor(skipRate/10)):end]\n",
    "        push!(backData,[xBack,yBack])\n",
    "    end\n",
    "    return plotNum,backData,I\n",
    "end\n",
    "\n",
    "#num1=plotSection([0,0],0.001,nBodiesList[1],plotList[1],physInfoList[1],namesList[1],colorsList[1],1000)\n",
    "plotAll(nBodiesList,plotList,physInfoList,namesList,colorsList,100,tOffsets,0.0001)"
   ]
  },
  {
   "cell_type": "code",
   "execution_count": 36,
   "metadata": {},
   "outputs": [
    {
     "data": {
      "text/plain": [
       "plotAll (generic function with 1 method)"
      ]
     },
     "execution_count": 36,
     "metadata": {},
     "output_type": "execute_result"
    }
   ],
   "source": [
    "function plotAll(nBodiesList,plotList,physInfoList,namesList,colorsList,maxFrame,tOffsets,dt)\n",
    "    frameOffset=0 #start at one because frame numbers start at 1\n",
    "    backData=[]\n",
    "    oldI=0\n",
    "    for i=1:length(nBodiesList)\n",
    "        println(\"plotting step $i of $(length(nBodiesList))\")\n",
    "        currentNBodies=nBodiesList[i]\n",
    "        currentPlotData=plotList[i]\n",
    "        currentPhysInfo=physInfoList[i]\n",
    "        currentNames=namesList[i]\n",
    "        currentColors=colorsList[i]\n",
    "        if i>1\n",
    "            oldColors=colorsList[i-1]\n",
    "        else\n",
    "            oldColors=[]\n",
    "        end\n",
    "        currentTOffset=tOffsets[i]\n",
    "        currentFrame,backData,oldI=plotSection(i,backData,oldI,oldColors,[currentTOffset,frameOffset],dt,currentNBodies,currentPlotData,currentPhysInfo,currentNames,currentColors,maxFrame)\n",
    "        frameOffset+=currentFrame\n",
    "    end\n",
    "end\n",
    "        "
   ]
  },
  {
   "cell_type": "markdown",
   "metadata": {},
   "source": [
    "# new things to do\n",
    "\n",
    "fix backData issue so lines are permanent\n",
    "\n",
    "maybe change fill of black holes to be black??"
   ]
  },
  {
   "cell_type": "code",
   "execution_count": 126,
   "metadata": {},
   "outputs": [
    {
     "name": "stdout",
     "output_type": "stream",
     "text": [
      "50.0\n",
      "0.20 % complete\r"
     ]
    },
    {
     "name": "stderr",
     "output_type": "stream",
     "text": [
      "GKS: Rectangle definition is invalid in routine SET_VIEWPORT\n",
      "GKS: Rectangle definition is invalid in routine SET_VIEWPORT\n"
     ]
    },
    {
     "name": "stdout",
     "output_type": "stream",
     "text": [
      "0.27 % complete\r",
      "0.33 % complete\r"
     ]
    },
    {
     "name": "stderr",
     "output_type": "stream",
     "text": [
      "GKS: Rectangle definition is invalid in routine SET_VIEWPORT\n",
      "GKS: Rectangle definition is invalid in routine SET_VIEWPORT\n"
     ]
    },
    {
     "name": "stdout",
     "output_type": "stream",
     "text": [
      "0.40 % complete\r",
      "0.46 % complete\r",
      "0.53 % complete\r",
      "0.60 % complete\r"
     ]
    },
    {
     "name": "stderr",
     "output_type": "stream",
     "text": [
      "GKS: Rectangle definition is invalid in routine SET_VIEWPORT\n",
      "GKS: Rectangle definition is invalid in routine SET_VIEWPORT\n",
      "GKS: Rectangle definition is invalid in routine SET_VIEWPORT\n",
      "GKS: Rectangle definition is invalid in routine SET_VIEWPORT\n"
     ]
    },
    {
     "name": "stdout",
     "output_type": "stream",
     "text": [
      "0.66 % complete\r",
      "0.73 % complete\r"
     ]
    },
    {
     "name": "stderr",
     "output_type": "stream",
     "text": [
      "GKS: Rectangle definition is invalid in routine SET_VIEWPORT\n",
      "GKS: Rectangle definition is invalid in routine SET_VIEWPORT\n"
     ]
    },
    {
     "name": "stdout",
     "output_type": "stream",
     "text": [
      "0.79 % complete\r",
      "0.86 % complete\r",
      "0.93 % complete\r",
      "0.99 % complete\r"
     ]
    },
    {
     "name": "stderr",
     "output_type": "stream",
     "text": [
      "GKS: Rectangle definition is invalid in routine SET_VIEWPORT\n",
      "GKS: Rectangle definition is invalid in routine SET_VIEWPORT\n",
      "GKS: Rectangle definition is invalid in routine SET_VIEWPORT\n",
      "GKS: Rectangle definition is invalid in routine SET_VIEWPORT\n"
     ]
    },
    {
     "name": "stdout",
     "output_type": "stream",
     "text": [
      "1.06 % complete\r",
      "1.12 % complete\r"
     ]
    },
    {
     "name": "stderr",
     "output_type": "stream",
     "text": [
      "GKS: Rectangle definition is invalid in routine SET_VIEWPORT\n",
      "GKS: Rectangle definition is invalid in routine SET_VIEWPORT\n"
     ]
    },
    {
     "name": "stdout",
     "output_type": "stream",
     "text": [
      "1.19 % complete\r",
      "1.26 % complete\r"
     ]
    },
    {
     "name": "stderr",
     "output_type": "stream",
     "text": [
      "GKS: Rectangle definition is invalid in routine SET_VIEWPORT\n",
      "GKS: Rectangle definition is invalid in routine SET_VIEWPORT\n"
     ]
    },
    {
     "name": "stdout",
     "output_type": "stream",
     "text": [
      "1.32 % complete\r",
      "1.39 % complete\r"
     ]
    },
    {
     "name": "stderr",
     "output_type": "stream",
     "text": [
      "GKS: Rectangle definition is invalid in routine SET_VIEWPORT\n",
      "GKS: Rectangle definition is invalid in routine SET_VIEWPORT\n"
     ]
    },
    {
     "name": "stdout",
     "output_type": "stream",
     "text": [
      "1.45 % complete\r",
      "1.52 % complete\r",
      "1.59 % complete\r",
      "1.65 % complete\r"
     ]
    },
    {
     "name": "stderr",
     "output_type": "stream",
     "text": [
      "GKS: Rectangle definition is invalid in routine SET_VIEWPORT\n",
      "GKS: Rectangle definition is invalid in routine SET_VIEWPORT\n",
      "GKS: Rectangle definition is invalid in routine SET_VIEWPORT\n",
      "GKS: Rectangle definition is invalid in routine SET_VIEWPORT\n"
     ]
    },
    {
     "name": "stdout",
     "output_type": "stream",
     "text": [
      "1.72 % complete\r",
      "1.78 % complete\r"
     ]
    },
    {
     "name": "stderr",
     "output_type": "stream",
     "text": [
      "GKS: Rectangle definition is invalid in routine SET_VIEWPORT\n",
      "GKS: Rectangle definition is invalid in routine SET_VIEWPORT\n"
     ]
    },
    {
     "name": "stdout",
     "output_type": "stream",
     "text": [
      "1.85 % complete\r",
      "1.92 % complete\r"
     ]
    },
    {
     "name": "stderr",
     "output_type": "stream",
     "text": [
      "GKS: Rectangle definition is invalid in routine SET_VIEWPORT\n",
      "GKS: Rectangle definition is invalid in routine SET_VIEWPORT\n"
     ]
    },
    {
     "name": "stdout",
     "output_type": "stream",
     "text": [
      "1.98 % complete\r",
      "2.05 % complete\r"
     ]
    },
    {
     "name": "stderr",
     "output_type": "stream",
     "text": [
      "GKS: Rectangle definition is invalid in routine SET_VIEWPORT\n",
      "GKS: Rectangle definition is invalid in routine SET_VIEWPORT\n"
     ]
    },
    {
     "name": "stdout",
     "output_type": "stream",
     "text": [
      "2.11 % complete\r",
      "2.18 % complete\r"
     ]
    },
    {
     "name": "stderr",
     "output_type": "stream",
     "text": [
      "GKS: Rectangle definition is invalid in routine SET_VIEWPORT\n",
      "GKS: Rectangle definition is invalid in routine SET_VIEWPORT\n"
     ]
    },
    {
     "name": "stdout",
     "output_type": "stream",
     "text": [
      "2.25 % complete\r",
      "2.31 % complete\r"
     ]
    },
    {
     "name": "stderr",
     "output_type": "stream",
     "text": [
      "GKS: Rectangle definition is invalid in routine SET_VIEWPORT\n",
      "GKS: Rectangle definition is invalid in routine SET_VIEWPORT\n"
     ]
    },
    {
     "name": "stdout",
     "output_type": "stream",
     "text": [
      "2.38 % complete\r",
      "2.44 % complete\r"
     ]
    },
    {
     "name": "stderr",
     "output_type": "stream",
     "text": [
      "GKS: Rectangle definition is invalid in routine SET_VIEWPORT\n",
      "GKS: Rectangle definition is invalid in routine SET_VIEWPORT\n"
     ]
    },
    {
     "name": "stdout",
     "output_type": "stream",
     "text": [
      "2.51 % complete\r",
      "2.58 % complete\r"
     ]
    },
    {
     "name": "stderr",
     "output_type": "stream",
     "text": [
      "GKS: Rectangle definition is invalid in routine SET_VIEWPORT\n",
      "GKS: Rectangle definition is invalid in routine SET_VIEWPORT\n"
     ]
    },
    {
     "name": "stdout",
     "output_type": "stream",
     "text": [
      "2.64 % complete\r",
      "2.71 % complete\r"
     ]
    },
    {
     "name": "stderr",
     "output_type": "stream",
     "text": [
      "GKS: Rectangle definition is invalid in routine SET_VIEWPORT\n",
      "GKS: Rectangle definition is invalid in routine SET_VIEWPORT\n"
     ]
    },
    {
     "name": "stdout",
     "output_type": "stream",
     "text": [
      "2.77 % complete\r",
      "2.84 % complete\r"
     ]
    },
    {
     "name": "stderr",
     "output_type": "stream",
     "text": [
      "GKS: Rectangle definition is invalid in routine SET_VIEWPORT\n",
      "GKS: Rectangle definition is invalid in routine SET_VIEWPORT\n"
     ]
    },
    {
     "name": "stdout",
     "output_type": "stream",
     "text": [
      "2.91 % complete\r",
      "2.97 % complete\r"
     ]
    },
    {
     "name": "stderr",
     "output_type": "stream",
     "text": [
      "GKS: Rectangle definition is invalid in routine SET_VIEWPORT\n",
      "GKS: Rectangle definition is invalid in routine SET_VIEWPORT\n"
     ]
    },
    {
     "name": "stdout",
     "output_type": "stream",
     "text": [
      "3.04 % complete\r",
      "3.10 % complete\r"
     ]
    },
    {
     "name": "stderr",
     "output_type": "stream",
     "text": [
      "GKS: Rectangle definition is invalid in routine SET_VIEWPORT\n",
      "GKS: Rectangle definition is invalid in routine SET_VIEWPORT\n"
     ]
    },
    {
     "name": "stdout",
     "output_type": "stream",
     "text": [
      "3.17 % complete\r",
      "3.24 % complete\r"
     ]
    },
    {
     "name": "stderr",
     "output_type": "stream",
     "text": [
      "GKS: Rectangle definition is invalid in routine SET_VIEWPORT\n",
      "GKS: Rectangle definition is invalid in routine SET_VIEWPORT\n"
     ]
    },
    {
     "name": "stdout",
     "output_type": "stream",
     "text": [
      "3.30 % complete\r",
      "3.37 % complete\r"
     ]
    },
    {
     "name": "stderr",
     "output_type": "stream",
     "text": [
      "GKS: Rectangle definition is invalid in routine SET_VIEWPORT\n",
      "GKS: Rectangle definition is invalid in routine SET_VIEWPORT\n"
     ]
    },
    {
     "name": "stdout",
     "output_type": "stream",
     "text": [
      "3.43 % complete\r",
      "3.50 % complete\r"
     ]
    },
    {
     "name": "stderr",
     "output_type": "stream",
     "text": [
      "GKS: Rectangle definition is invalid in routine SET_VIEWPORT\n",
      "GKS: Rectangle definition is invalid in routine SET_VIEWPORT\n"
     ]
    },
    {
     "name": "stdout",
     "output_type": "stream",
     "text": [
      "3.57 % complete\r",
      "3.63 % complete\r"
     ]
    },
    {
     "name": "stderr",
     "output_type": "stream",
     "text": [
      "GKS: Rectangle definition is invalid in routine SET_VIEWPORT\n",
      "GKS: Rectangle definition is invalid in routine SET_VIEWPORT\n"
     ]
    },
    {
     "name": "stdout",
     "output_type": "stream",
     "text": [
      "3.70 % complete\r",
      "3.76 % complete\r"
     ]
    },
    {
     "name": "stderr",
     "output_type": "stream",
     "text": [
      "GKS: Rectangle definition is invalid in routine SET_VIEWPORT\n",
      "GKS: Rectangle definition is invalid in routine SET_VIEWPORT\n"
     ]
    },
    {
     "name": "stdout",
     "output_type": "stream",
     "text": [
      "3.83 % complete\r",
      "3.90 % complete\r"
     ]
    },
    {
     "name": "stderr",
     "output_type": "stream",
     "text": [
      "GKS: Rectangle definition is invalid in routine SET_VIEWPORT\n",
      "GKS: Rectangle definition is invalid in routine SET_VIEWPORT\n"
     ]
    },
    {
     "name": "stdout",
     "output_type": "stream",
     "text": [
      "3.96 % complete\r",
      "4.03 % complete\r"
     ]
    },
    {
     "name": "stderr",
     "output_type": "stream",
     "text": [
      "GKS: Rectangle definition is invalid in routine SET_VIEWPORT\n",
      "GKS: Rectangle definition is invalid in routine SET_VIEWPORT\n"
     ]
    },
    {
     "name": "stdout",
     "output_type": "stream",
     "text": [
      "4.09 % complete\r",
      "4.16 % complete\r"
     ]
    },
    {
     "name": "stderr",
     "output_type": "stream",
     "text": [
      "GKS: Rectangle definition is invalid in routine SET_VIEWPORT\n",
      "GKS: Rectangle definition is invalid in routine SET_VIEWPORT\n"
     ]
    },
    {
     "name": "stdout",
     "output_type": "stream",
     "text": [
      "4.23 % complete\r",
      "4.29 % complete\r"
     ]
    },
    {
     "name": "stderr",
     "output_type": "stream",
     "text": [
      "GKS: Rectangle definition is invalid in routine SET_VIEWPORT\n",
      "GKS: Rectangle definition is invalid in routine SET_VIEWPORT\n"
     ]
    },
    {
     "name": "stdout",
     "output_type": "stream",
     "text": [
      "4.36 % complete\r",
      "4.42 % complete\r"
     ]
    },
    {
     "name": "stderr",
     "output_type": "stream",
     "text": [
      "GKS: Rectangle definition is invalid in routine SET_VIEWPORT\n",
      "GKS: Rectangle definition is invalid in routine SET_VIEWPORT\n"
     ]
    },
    {
     "name": "stdout",
     "output_type": "stream",
     "text": [
      "4.49 % complete\r",
      "4.56 % complete\r"
     ]
    },
    {
     "name": "stderr",
     "output_type": "stream",
     "text": [
      "GKS: Rectangle definition is invalid in routine SET_VIEWPORT\n",
      "GKS: Rectangle definition is invalid in routine SET_VIEWPORT\n"
     ]
    },
    {
     "name": "stdout",
     "output_type": "stream",
     "text": [
      "4.62 % complete\r",
      "4.69 % complete\r"
     ]
    },
    {
     "name": "stderr",
     "output_type": "stream",
     "text": [
      "GKS: Rectangle definition is invalid in routine SET_VIEWPORT\n",
      "GKS: Rectangle definition is invalid in routine SET_VIEWPORT\n"
     ]
    },
    {
     "name": "stdout",
     "output_type": "stream",
     "text": [
      "4.75 % complete\r",
      "4.82 % complete\r"
     ]
    },
    {
     "name": "stderr",
     "output_type": "stream",
     "text": [
      "GKS: Rectangle definition is invalid in routine SET_VIEWPORT\n",
      "GKS: Rectangle definition is invalid in routine SET_VIEWPORT\n"
     ]
    },
    {
     "name": "stdout",
     "output_type": "stream",
     "text": [
      "4.89 % complete\r",
      "4.95 % complete\r"
     ]
    },
    {
     "name": "stderr",
     "output_type": "stream",
     "text": [
      "GKS: Rectangle definition is invalid in routine SET_VIEWPORT\n",
      "GKS: Rectangle definition is invalid in routine SET_VIEWPORT\n"
     ]
    },
    {
     "name": "stdout",
     "output_type": "stream",
     "text": [
      "5.02 % complete\r",
      "5.08 % complete\r"
     ]
    },
    {
     "name": "stderr",
     "output_type": "stream",
     "text": [
      "GKS: Rectangle definition is invalid in routine SET_VIEWPORT\n",
      "GKS: Rectangle definition is invalid in routine SET_VIEWPORT\n"
     ]
    },
    {
     "name": "stdout",
     "output_type": "stream",
     "text": [
      "5.15 % complete\r",
      "5.22 % complete\r"
     ]
    },
    {
     "name": "stderr",
     "output_type": "stream",
     "text": [
      "GKS: Rectangle definition is invalid in routine SET_VIEWPORT\n",
      "GKS: Rectangle definition is invalid in routine SET_VIEWPORT\n"
     ]
    },
    {
     "name": "stdout",
     "output_type": "stream",
     "text": [
      "5.28 % complete\r",
      "5.35 % complete\r"
     ]
    },
    {
     "name": "stderr",
     "output_type": "stream",
     "text": [
      "GKS: Rectangle definition is invalid in routine SET_VIEWPORT\n",
      "GKS: Rectangle definition is invalid in routine SET_VIEWPORT\n"
     ]
    },
    {
     "name": "stdout",
     "output_type": "stream",
     "text": [
      "5.41 % complete\r",
      "5.48 % complete\r"
     ]
    },
    {
     "name": "stderr",
     "output_type": "stream",
     "text": [
      "GKS: Rectangle definition is invalid in routine SET_VIEWPORT\n",
      "GKS: Rectangle definition is invalid in routine SET_VIEWPORT\n"
     ]
    },
    {
     "name": "stdout",
     "output_type": "stream",
     "text": [
      "5.55 % complete\r",
      "5.61 % complete\r"
     ]
    },
    {
     "name": "stderr",
     "output_type": "stream",
     "text": [
      "GKS: Rectangle definition is invalid in routine SET_VIEWPORT\n",
      "GKS: Rectangle definition is invalid in routine SET_VIEWPORT\n"
     ]
    },
    {
     "name": "stdout",
     "output_type": "stream",
     "text": [
      "5.68 % complete\r",
      "5.74 % complete\r"
     ]
    },
    {
     "name": "stderr",
     "output_type": "stream",
     "text": [
      "GKS: Rectangle definition is invalid in routine SET_VIEWPORT\n",
      "GKS: Rectangle definition is invalid in routine SET_VIEWPORT\n"
     ]
    },
    {
     "name": "stdout",
     "output_type": "stream",
     "text": [
      "5.81 % complete\r",
      "5.88 % complete\r"
     ]
    },
    {
     "name": "stderr",
     "output_type": "stream",
     "text": [
      "GKS: Rectangle definition is invalid in routine SET_VIEWPORT\n",
      "GKS: Rectangle definition is invalid in routine SET_VIEWPORT\n"
     ]
    },
    {
     "name": "stdout",
     "output_type": "stream",
     "text": [
      "5.94 % complete\r",
      "6.01 % complete\r"
     ]
    },
    {
     "name": "stderr",
     "output_type": "stream",
     "text": [
      "GKS: Rectangle definition is invalid in routine SET_VIEWPORT\n",
      "GKS: Rectangle definition is invalid in routine SET_VIEWPORT\n"
     ]
    },
    {
     "name": "stdout",
     "output_type": "stream",
     "text": [
      "6.07 % complete\r",
      "6.14 % complete\r"
     ]
    },
    {
     "name": "stderr",
     "output_type": "stream",
     "text": [
      "GKS: Rectangle definition is invalid in routine SET_VIEWPORT\n",
      "GKS: Rectangle definition is invalid in routine SET_VIEWPORT\n"
     ]
    },
    {
     "name": "stdout",
     "output_type": "stream",
     "text": [
      "6.21 % complete\r",
      "6.27 % complete\r"
     ]
    },
    {
     "name": "stderr",
     "output_type": "stream",
     "text": [
      "GKS: Rectangle definition is invalid in routine SET_VIEWPORT\n",
      "GKS: Rectangle definition is invalid in routine SET_VIEWPORT\n"
     ]
    },
    {
     "name": "stdout",
     "output_type": "stream",
     "text": [
      "6.34 % complete\r",
      "6.40 % complete\r"
     ]
    },
    {
     "name": "stderr",
     "output_type": "stream",
     "text": [
      "GKS: Rectangle definition is invalid in routine SET_VIEWPORT\n",
      "GKS: Rectangle definition is invalid in routine SET_VIEWPORT\n"
     ]
    },
    {
     "name": "stdout",
     "output_type": "stream",
     "text": [
      "6.47 % complete\r",
      "6.54 % complete\r"
     ]
    },
    {
     "name": "stderr",
     "output_type": "stream",
     "text": [
      "GKS: Rectangle definition is invalid in routine SET_VIEWPORT\n",
      "GKS: Rectangle definition is invalid in routine SET_VIEWPORT\n"
     ]
    },
    {
     "name": "stdout",
     "output_type": "stream",
     "text": [
      "6.60 % complete\r",
      "6.67 % complete\r"
     ]
    },
    {
     "name": "stderr",
     "output_type": "stream",
     "text": [
      "GKS: Rectangle definition is invalid in routine SET_VIEWPORT\n",
      "GKS: Rectangle definition is invalid in routine SET_VIEWPORT\n"
     ]
    },
    {
     "name": "stdout",
     "output_type": "stream",
     "text": [
      "6.73 % complete\r",
      "6.80 % complete\r"
     ]
    },
    {
     "name": "stderr",
     "output_type": "stream",
     "text": [
      "GKS: Rectangle definition is invalid in routine SET_VIEWPORT\n",
      "GKS: Rectangle definition is invalid in routine SET_VIEWPORT\n"
     ]
    },
    {
     "name": "stdout",
     "output_type": "stream",
     "text": [
      "6.87 % complete\r",
      "6.93 % complete\r"
     ]
    },
    {
     "name": "stderr",
     "output_type": "stream",
     "text": [
      "GKS: Rectangle definition is invalid in routine SET_VIEWPORT\n",
      "GKS: Rectangle definition is invalid in routine SET_VIEWPORT\n",
      "GKS: Rectangle definition is invalid in routine SET_VIEWPORT\n"
     ]
    },
    {
     "ename": "InterruptException",
     "evalue": "InterruptException:",
     "output_type": "error",
     "traceback": [
      "InterruptException:",
      "",
      "Stacktrace:",
      " [1] _string_n at ./strings/string.jl:60 [inlined]",
      " [2] string(::String, ::String, ::Vararg{String,N} where N) at ./strings/substring.jl:191",
      " [3] open(::String; read::Nothing, write::Nothing, create::Nothing, truncate::Nothing, append::Nothing) at ./iostream.jl:253",
      " [4] open at ./iostream.jl:246 [inlined]",
      " [5] open(::Base.var\"#279#280\"{String}, ::String; kwargs::Base.Iterators.Pairs{Union{},Union{},Tuple{},NamedTuple{(),Tuple{}}}) at ./io.jl:296",
      " [6] open at ./io.jl:296 [inlined]",
      " [7] read at ./io.jl:381 [inlined]",
      " [8] _show(::IOStream, ::MIME{Symbol(\"image/png\")}, ::Plots.Plot{Plots.GRBackend}) at /home/kirk/.julia/packages/Plots/NVH6y/src/backends/gr.jl:1955",
      " [9] show at /home/kirk/.julia/packages/Plots/NVH6y/src/output.jl:216 [inlined]",
      " [10] png(::Plots.Plot{Plots.GRBackend}, ::String) at /home/kirk/.julia/packages/Plots/NVH6y/src/output.jl:8",
      " [11] frame(::Animation, ::Plots.Plot{Plots.GRBackend}) at /home/kirk/.julia/packages/Plots/NVH6y/src/animation.jl:20",
      " [12] top-level scope at ./In[126]:73"
     ]
    }
   ],
   "source": [
    "function getLims(xList,yList,padding,maxFrame) #determines plot limits at each frame, padding in units of pos\n",
    "    xMin=minimum(x)\n",
    "    xMax=maximum(x)\n",
    "    dx=xMax-xMin\n",
    "    yMin=minimum(y)\n",
    "    yMax=maximum(y)\n",
    "    dy=yMax-yMin\n",
    "    if dx>dy && dx<maxFrame\n",
    "        #use x for square\n",
    "        xlims=[xMin-padding,xMax+padding]\n",
    "        ylims=[yMin-padding,yMin+dx+padding]\n",
    "    elseif dy>dx && dy<maxFrame\n",
    "        #use y for square\n",
    "        xlims=[xMin-padding,xMin+dy+padding]\n",
    "        ylims=[yMin-padding,yMax+padding]\n",
    "    else\n",
    "        xlims=[maxFrame]\n",
    "    end\n",
    "    return xlims,ylims\n",
    "end\n",
    "\n",
    "function makeCircleVals(r,center=[0,0])\n",
    "    xOffset=center[1]\n",
    "    yOffset=center[2]\n",
    "    xVals=[r*cos(i)+xOffset for i=0:(pi/64):(2*pi)]\n",
    "    yVals=[r*sin(i)+yOffset for i=0:(pi/64):(2*pi)]\n",
    "    return xVals,yVals\n",
    "end\n",
    "labels=[\"Joe\",\"Liza\",\"Amy\",\"Richard\",\"Ted\",\"Dave\",\"Morgan\"] #joe is grandma\n",
    "nBodies=7\n",
    "xData,yData,t,m,rad=getInterestingNBody(nBodies,15)\n",
    "#adding fake stars\n",
    "numStars=2500\n",
    "starsX=zeros(numStars)\n",
    "starsY=zeros(numStars)\n",
    "for i=1:numStars\n",
    "    num=rand(-200:200,2) #box size is 70 AU but we need some extra padding for movement\n",
    "    starsX[i]=num[1]\n",
    "    starsY[i]=num[2]\n",
    "end\n",
    "\n",
    "#this new way runs significantly faster (~2x improvement over @anim)\n",
    "#Downside is it spams folder with png images of every frame and must manually compile with ffmpeg\n",
    "#Comment out and use older way (after this below) if performance/specific formatting is not an issue\n",
    "\n",
    "plotLoadPath=\"tmpPlots/\"\n",
    "nBodyAnim=Animation(plotLoadPath,String[])\n",
    "\n",
    "for i=1:33:length(t) #this makes animation scale ~1 sec/year with other conditions\n",
    "    GR.inline(\"png\") #added to eneable cron/jobber compatibility, also this makes frames generate WAY faster? Prior to adding this when run from cron/jobber frames would stop generating at 408 for some reason.\n",
    "    gr(legendfontcolor = plot_color(:white)) #legendfontcolor=:white plot arg broken right now (at least in this backend)\n",
    "    print(\"$(@sprintf(\"%.2f\",i/length(t)*100)) % complete\\r\") #output percent tracker\n",
    "    x=[]\n",
    "    y=[]\n",
    "    for n=1:nBodies\n",
    "        push!(x,xData[n][i]/1.5e11)\n",
    "        push!(y,yData[n][i]/1.5e11)\n",
    "    end\n",
    "    limx,limy=getLims(x,y,10) #10 AU padding\n",
    "    p=plot(xData[1][1:i]./1.5e11,yData[1][1:i]./1.5e11,label=\"\",linecolor=:auto,linealpha=max.((1:i) .+ 10000 .- i,2500)/10000)\n",
    "    for n=2:nBodies\n",
    "        p=plot!(xData[n][1:i]./1.5e11,yData[n][1:i]./1.5e11,label=\"\",linecolor=:auto,linealpha=max.((1:i) .+ 10000 .- i,2500)/10000)\n",
    "    end\n",
    "    p=scatter!(starsX,starsY,markercolor=:white,markersize=:1,label=\"\") #fake background stars\n",
    "    for n=1:nBodies\n",
    "        circleX,circleY=makeCircleVals(rad[n],[xData[n][i],yData[n][i]])\n",
    "        p=plot!(circleX./1.5e11,circleY./1.5e11,label=labels[n],color=:auto,fill=true)\n",
    "    end\n",
    "\n",
    "    p=plot!(background_color=:black,background_color_legend=:transparent,foreground_color_legend=:transparent,\n",
    "        background_color_outside=:white,aspect_ratio=:equal,legendtitlefontcolor=:white) #formatting for plot frame\n",
    "    p=plot!(xlabel=\"x: AU\",ylabel=\"y: AU\",title=\"Random Long Body Problem\\nt: $(@sprintf(\"%0.2f\",t[i]/365/24/3600)) yrs after start\",\n",
    "        legend=:best,xaxis=(\"x: AU\",(limx[1],limx[2]),font(9,\"Courier\")),yaxis=(\"y: AU\",(limy[1],limy[2]),font(9,\"Courier\")),\n",
    "        grid=false,titlefont=font(14,\"Courier\"),size=(720,721),legendfontsize=8,legendtitle=\"Contestants\",legendtitlefontsize=8) #add in axes/title/legend with formatting\n",
    "    frame(nBodyAnim,p) #generate the frame\n",
    "    closeall() #close plots\n",
    "end"
   ]
  },
  {
   "cell_type": "code",
   "execution_count": 128,
   "metadata": {},
   "outputs": [
    {
     "data": {
      "text/plain": [
       "4.38"
      ]
     },
     "execution_count": 128,
     "metadata": {},
     "output_type": "execute_result"
    }
   ],
   "source": [
    "maximum(t)/3600/24"
   ]
  },
  {
   "cell_type": "code",
   "execution_count": 130,
   "metadata": {},
   "outputs": [
    {
     "data": {
      "text/plain": [
       "13-element Array{Float64,1}:\n",
       " -1.95e12\n",
       "  1.1130581781524726e57\n",
       "  3.710899824040809e56\n",
       "  6.362344377105025e65\n",
       "  2.121184956268463e65\n",
       " -3.2862956682576013e48\n",
       " -3.131736945266209e51\n",
       " -1.0287201891841955e51\n",
       " -2.4375778482559063e52\n",
       " -8.05600189119602e51\n",
       " -2.7003424844854266e56\n",
       " -9.002854165259237e55\n",
       " -1.1123899149081995e69"
      ]
     },
     "execution_count": 130,
     "metadata": {},
     "output_type": "execute_result"
    }
   ],
   "source": [
    "xList[1]"
   ]
  },
  {
   "cell_type": "code",
   "execution_count": 47,
   "metadata": {},
   "outputs": [
    {
     "data": {
      "text/plain": [
       "6-element Array{Int64,1}:\n",
       " 1\n",
       " 2\n",
       " 3\n",
       " 4\n",
       " 5\n",
       " 6"
      ]
     },
     "execution_count": 47,
     "metadata": {},
     "output_type": "execute_result"
    }
   ],
   "source": [
    "x=[1,2,3,4,5,6]"
   ]
  },
  {
   "cell_type": "code",
   "execution_count": 164,
   "metadata": {},
   "outputs": [
    {
     "ename": "MethodError",
     "evalue": "MethodError: no method matching deleteat!(::Array{Int64,1}, ::Int64, ::Int64)\nClosest candidates are:\n  deleteat!(::Array{T,1} where T, ::Integer) at array.jl:1237\n  deleteat!(::Array{T,1} where T, ::Any) at array.jl:1274\n  deleteat!(::Array{T,1} where T, !Matched::UnitRange{#s69} where #s69<:Integer) at array.jl:1240\n  ...",
     "output_type": "error",
     "traceback": [
      "MethodError: no method matching deleteat!(::Array{Int64,1}, ::Int64, ::Int64)\nClosest candidates are:\n  deleteat!(::Array{T,1} where T, ::Integer) at array.jl:1237\n  deleteat!(::Array{T,1} where T, ::Any) at array.jl:1274\n  deleteat!(::Array{T,1} where T, !Matched::UnitRange{#s69} where #s69<:Integer) at array.jl:1240\n  ...",
      "",
      "Stacktrace:",
      " [1] top-level scope at In[164]:1"
     ]
    }
   ],
   "source": [
    "deleteat!(x,1,6)"
   ]
  },
  {
   "cell_type": "code",
   "execution_count": 129,
   "metadata": {},
   "outputs": [
    {
     "data": {
      "text/plain": [
       "0"
      ]
     },
     "execution_count": 129,
     "metadata": {},
     "output_type": "execute_result"
    }
   ],
   "source": [
    "a=[1,2,3]\n",
    "b=a\n",
    "b[1]=0"
   ]
  },
  {
   "cell_type": "code",
   "execution_count": 130,
   "metadata": {},
   "outputs": [
    {
     "data": {
      "text/plain": [
       "3-element Array{Int64,1}:\n",
       " 0\n",
       " 2\n",
       " 3"
      ]
     },
     "execution_count": 130,
     "metadata": {},
     "output_type": "execute_result"
    }
   ],
   "source": [
    "a"
   ]
  },
  {
   "cell_type": "code",
   "execution_count": 159,
   "metadata": {},
   "outputs": [
    {
     "data": {
      "text/plain": [
       "\"hworldeworldlworldlworldo\""
      ]
     },
     "execution_count": 159,
     "metadata": {},
     "output_type": "execute_result"
    }
   ],
   "source": [
    "a= \"hello\"\n",
    "b = \"world\"\n",
    "c = join(a,b)"
   ]
  },
  {
   "cell_type": "code",
   "execution_count": 22,
   "metadata": {},
   "outputs": [],
   "source": [
    "colorList=[]\n",
    "open(\"juliaColors.txt\",\"r\") do f\n",
    "    for line in eachline(f)\n",
    "        push!(colorList,split(line)[1][2:end-1])\n",
    "    end\n",
    "end"
   ]
  },
  {
   "cell_type": "code",
   "execution_count": 19,
   "metadata": {},
   "outputs": [
    {
     "data": {
      "text/plain": [
       "\"aliceblue\""
      ]
     },
     "execution_count": 19,
     "metadata": {},
     "output_type": "execute_result"
    }
   ],
   "source": [
    "colorList[1]"
   ]
  },
  {
   "cell_type": "code",
   "execution_count": 20,
   "metadata": {},
   "outputs": [],
   "source": [
    "colorSymbols=[]\n",
    "for color in colorList\n",
    "    push!(colorSymbols,Symbol(color))\n",
    "end"
   ]
  },
  {
   "cell_type": "code",
   "execution_count": 23,
   "metadata": {},
   "outputs": [],
   "source": [
    "open(\"juliaColors.txt\",\"w\") do f\n",
    "    for color in colorList\n",
    "        write(f,\"$color\\n\")\n",
    "    end\n",
    "end"
   ]
  },
  {
   "cell_type": "code",
   "execution_count": 276,
   "metadata": {},
   "outputs": [],
   "source": [
    "using Printf"
   ]
  },
  {
   "cell_type": "code",
   "execution_count": 18,
   "metadata": {},
   "outputs": [
    {
     "name": "stdout",
     "output_type": "stream",
     "text": [
      "test_001\n",
      "test_002\n",
      "test_003\n",
      "test_004\n",
      "test_005\n",
      "test_006\n",
      "test_007\n",
      "test_008\n",
      "test_009\n",
      "test_010\n"
     ]
    }
   ],
   "source": [
    "for i=1:10\n",
    "    println(\"@sprintf(\"test_%03d\",i)@sprintf(\"test_%03d\",i)sdfjl\")\n",
    "end"
   ]
  },
  {
   "cell_type": "code",
   "execution_count": 300,
   "metadata": {},
   "outputs": [
    {
     "data": {
      "text/plain": [
       "pickPair (generic function with 1 method)"
      ]
     },
     "execution_count": 300,
     "metadata": {},
     "output_type": "execute_result"
    }
   ],
   "source": [
    "function getUniqueRand(n,upper)\n",
    "    acceptRand=false\n",
    "    while acceptRand==false\n",
    "        randInd=rand(1:upper,n)\n",
    "        if randInd[1]!=randInd[2]\n",
    "            acceptRand=true\n",
    "            return randInd\n",
    "        end\n",
    "    end\n",
    "end\n",
    "function pickPair(pptList,peepList)\n",
    "    accept=false\n",
    "    while accept==false\n",
    "        randInd=getUniqueRand(2,length(pptList))\n",
    "        ppt=pptList[randInd[1]]\n",
    "        peep=peepList[randInd[2]]\n",
    "        println(\"$peep chosen to present $ppt\\naccept this choice?\")\n",
    "        ans=readline()\n",
    "        if ans==\"y\"\n",
    "            accept=true\n",
    "            deleteat!(peepList,randInd[2])\n",
    "            deleteat!(pptList,randInd[1])\n",
    "            return pptList,peepList\n",
    "        else\n",
    "            println(\"picking again\")\n",
    "        end\n",
    "    end\n",
    "end\n"
   ]
  },
  {
   "cell_type": "code",
   "execution_count": 302,
   "metadata": {},
   "outputs": [
    {
     "name": "stdout",
     "output_type": "stream",
     "text": [
      "stdin> \n",
      "Lauren chosen to present Riboflavin Kinase\n",
      "accept this choice?\n",
      "stdin> y\n",
      "stdin> \n",
      "Kirk chosen to present Function Expectations\n",
      "accept this choice?\n",
      "stdin> y\n",
      "last but not least!\n",
      "Olivia chosen to present Accreting x-ray binaries\n"
     ]
    }
   ],
   "source": [
    "pptList=[\"Accreting x-ray binaries\",\"Riboflavin Kinase\",\"Function Expectations\"]\n",
    "peepList=[\"Kirk\",\"Olivia\",\"Lauren\"]\n",
    "while length(peepList)>1\n",
    "    stop=readline()\n",
    "    pptList,peepList=pickPair(pptList,peepList)\n",
    "    if length(peepList)==1\n",
    "        stop=readline()\n",
    "        println(\"last but not least!\\n$(peepList[1]) chosen to present $(pptList[1])\")\n",
    "    end\n",
    "end"
   ]
  },
  {
   "cell_type": "code",
   "execution_count": 33,
   "metadata": {},
   "outputs": [
    {
     "ename": "ArgumentError",
     "evalue": "ArgumentError: number of rows of each array must match (got (2, 4))",
     "output_type": "error",
     "traceback": [
      "ArgumentError: number of rows of each array must match (got (2, 4))",
      "",
      "Stacktrace:",
      " [1] _typed_hcat(::Type{Any}, ::Tuple{Array{Array{Int64,1},1},Array{Int64,1}}) at ./abstractarray.jl:1323",
      " [2] typed_hcat at ./abstractarray.jl:1310 [inlined]",
      " [3] hcat(::Array{Array{Int64,1},1}, ::Array{Int64,1}) at /buildworker/worker/package_linux64/build/usr/share/julia/stdlib/v1.4/SparseArrays/src/sparsevector.jl:1073",
      " [4] top-level scope at In[33]:3"
     ]
    }
   ],
   "source": [
    "x = [[1,2,3,4],[1,2,3,4]]\n",
    "y = [5,6,7,8]\n",
    "t = hcat(x,y)"
   ]
  },
  {
   "cell_type": "code",
   "execution_count": 60,
   "metadata": {},
   "outputs": [
    {
     "data": {
      "text/plain": [
       "6-element Array{Any,1}:\n",
       " [2.7e12, -1.5e12]\n",
       " [4.8e12, -2.1e12]\n",
       " [-4.95e12, -4.5e11]\n",
       " [2800.0, 6374.0]\n",
       " [4817.0, -3824.0]\n",
       " [-6214.0, 955.0]"
      ]
     },
     "execution_count": 60,
     "metadata": {},
     "output_type": "execute_result"
    }
   ],
   "source": [
    "nBodies=3\n",
    "r,rad,m=initCondGen(nBodies)\n",
    "r"
   ]
  },
  {
   "cell_type": "code",
   "execution_count": 82,
   "metadata": {},
   "outputs": [
    {
     "name": "stdout",
     "output_type": "stream",
     "text": [
      "p1x = 1.0e30; p1y = 1.0e30;\n",
      "p2x = 8.999999999999999e30; p2y = 8.999999999999999e30\n",
      "pTotx = 9.999999999999999e30; pToty = 9.999999999999999e30\n",
      "new mass = 4.0e30\n",
      "shared v = (2.4999999999999996,2.4999999999999996)\n",
      "r before Any[[1.0, 1.0], [2.0, 2.0], [3.0, 3.0], [1.0, 1.0], [-2.0, -2.0], [3.0, 3.0]]\n",
      "r after Any[[2.0, 2.0], [2.0, 2.0], [2.4999999999999996, 2.4999999999999996], [-2.0, -2.0]]\n",
      "names before [\"1\", \"2\", \"3\"]\n",
      "names after [\"1 & 3 black hole\", \"2\"]\n",
      "colors before [\"blue\", \"red\", \"yellow\"]\n",
      "colors after [\"blue\", \"red\"]\n",
      "m before [1.0e30, 2.0e30, 3.0e30]\n",
      "m after [4.0e30, 2.0e30]\n",
      "rad before [1.0, 1.0, 3.0]\n",
      "rad after [5932.712444444444, 1.0]\n"
     ]
    }
   ],
   "source": [
    "xList=[[1],[2],[3]]\n",
    "yList=[[1],[2],[3]]\n",
    "sepList=[]\n",
    "i=1\n",
    "n1=1\n",
    "n2=3\n",
    "rad=[1.,1,3]\n",
    "names=[\"1\",\"2\",\"3\"]\n",
    "colors=[\"blue\",\"red\",\"yellow\"]\n",
    "#r=[[1.,1],[2.,2],[3.,3],[1.,1],[2.,2],[3.,3]]\n",
    "m=[1e30,2e30,3e30]\n",
    "r = Array{Any}(undef,6)\n",
    "r[1],r[2],r[3],r[4],r[5],r[6]=[1.,1.],[2.,2.],[3.,3.],[1.,1.],[-2.,-2.],[3.,3.]\n",
    "x1,y1=xList[n1][i],yList[n1][i]\n",
    "x2,y2=xList[n2][i],yList[n2][i]\n",
    "sep=sqrt((x1-x2)^2+(y1-y2)^2)\n",
    "push!(sepList,sep)\n",
    "minSep=rad[n1]+rad[n2]\n",
    "    if sep<minSep\n",
    "    sharedX=(x1+x2)/2\n",
    "    sharedY=(y1+y2)/2\n",
    "    p1x,p1y=m[n1]*r[n1+nBodies][1],m[n1]*r[n1+nBodies][2] #get momenta\n",
    "    p2x,p2y=m[n2]*r[n2+nBodies][1],m[n2]*r[n2+nBodies][2]\n",
    "    println(\"p1x = $p1x; p1y = $p1y;\\np2x = $p2x; p2y = $p2y\")\n",
    "    pTotx,pToty=p1x+p2x,p1y+p2y\n",
    "    println(\"pTotx = $pTotx; pToty = $pToty\")\n",
    "    newMass=m[n1]+m[n2]\n",
    "    println(\"new mass = $newMass\")\n",
    "    sharedVfX=pTotx/(newMass) #perfectly inelastic collision\n",
    "    sharedVfY=pToty/(newMass)\n",
    "    println(\"shared v = ($sharedVfX,$sharedVfY)\")\n",
    "    println(\"r before $r\")\n",
    "    r[n1][1]=sharedX #replace coordinates of one of the old bodies with new shared coords\n",
    "    r[n1][2]=sharedY\n",
    "    r[n1+nBodies][1]=sharedVfX #ditto for velocity\n",
    "    r[n1+nBodies][2]=sharedVfY\n",
    "    r[n2]=true #mark for removal\n",
    "    r[n2+nBodies]=true\n",
    "    filter!(x->x!=true,r) #filter and remove n2 entries\n",
    "    println(\"r after $r\")\n",
    "    println(\"names before $names\")\n",
    "    newName=string(names[n1],\" & \",names[n2],\" black hole\")\n",
    "    names[n1]=newName\n",
    "    deleteat!(names,n2)\n",
    "    println(\"names after $names\")\n",
    "    println(\"colors before $colors\")\n",
    "    deleteat!(colors,n2)\n",
    "    println(\"colors after $colors\")\n",
    "    println(\"m before $m\")\n",
    "    m[n1]=newMass #update mass to reflect merger\n",
    "    deleteat!(m,n2) #delete the other\n",
    "    println(\"m after $m\")\n",
    "    println(\"rad before $rad\")\n",
    "    newRad=2*(6.6743015e-11)*newMass/(9e16) #schwarzschild radius\n",
    "    rad[n1]=newRad #update radii list to reflect merger\n",
    "    deleteat!(rad,n2)\n",
    "    println(\"rad after $rad\")\n",
    "    #return true,r,nBodies-1,names,colors,m,rad\n",
    "end"
   ]
  },
  {
   "cell_type": "code",
   "execution_count": 44,
   "metadata": {},
   "outputs": [
    {
     "data": {
      "text/plain": [
       "Array{Float64,N} where N"
      ]
     },
     "execution_count": 44,
     "metadata": {},
     "output_type": "execute_result"
    }
   ],
   "source": [
    "A = Array{Float64}"
   ]
  },
  {
   "cell_type": "code",
   "execution_count": 13,
   "metadata": {},
   "outputs": [
    {
     "data": {
      "text/plain": [
       "\"ted & dave\""
      ]
     },
     "execution_count": 13,
     "metadata": {},
     "output_type": "execute_result"
    }
   ],
   "source": [
    "test=\"ted & dave black hole\"\n",
    "test[1:end-11]"
   ]
  },
  {
   "cell_type": "code",
   "execution_count": 21,
   "metadata": {},
   "outputs": [
    {
     "data": {
      "text/plain": [
       "7-element Array{Int64,1}:\n",
       " 1\n",
       " 2\n",
       " 3\n",
       " 1\n",
       " 2\n",
       " 3\n",
       " 4"
      ]
     },
     "execution_count": 21,
     "metadata": {},
     "output_type": "execute_result"
    }
   ],
   "source": [
    "x=[1,2,3,4]\n",
    "prepend!(x,[1,2,3])"
   ]
  },
  {
   "cell_type": "code",
   "execution_count": 2,
   "metadata": {},
   "outputs": [
    {
     "data": {
      "image/svg+xml": [
       "<?xml version=\"1.0\" encoding=\"utf-8\"?>\n",
       "<svg xmlns=\"http://www.w3.org/2000/svg\" xmlns:xlink=\"http://www.w3.org/1999/xlink\" width=\"600\" height=\"400\" viewBox=\"0 0 2400 1600\">\n",
       "<defs>\n",
       "  <clipPath id=\"clip0000\">\n",
       "    <rect x=\"0\" y=\"0\" width=\"2400\" height=\"1600\"/>\n",
       "  </clipPath>\n",
       "</defs>\n",
       "<path clip-path=\"url(#clip0000)\" d=\"\n",
       "M0 1600 L2400 1600 L2400 0 L0 0  Z\n",
       "  \" fill=\"#ffffff\" fill-rule=\"evenodd\" fill-opacity=\"1\"/>\n",
       "<defs>\n",
       "  <clipPath id=\"clip0001\">\n",
       "    <rect x=\"480\" y=\"0\" width=\"1681\" height=\"1600\"/>\n",
       "  </clipPath>\n",
       "</defs>\n",
       "<path clip-path=\"url(#clip0000)\" d=\"\n",
       "M148.334 1486.45 L2352.76 1486.45 L2352.76 47.2441 L148.334 47.2441  Z\n",
       "  \" fill=\"#ffffff\" fill-rule=\"evenodd\" fill-opacity=\"1\"/>\n",
       "<defs>\n",
       "  <clipPath id=\"clip0002\">\n",
       "    <rect x=\"148\" y=\"47\" width=\"2205\" height=\"1440\"/>\n",
       "  </clipPath>\n",
       "</defs>\n",
       "<polyline clip-path=\"url(#clip0002)\" style=\"stroke:#000000; stroke-width:2; stroke-opacity:0.1; fill:none\" points=\"\n",
       "  148.334,1486.45 148.334,47.2441 \n",
       "  \"/>\n",
       "<polyline clip-path=\"url(#clip0002)\" style=\"stroke:#000000; stroke-width:2; stroke-opacity:0.1; fill:none\" points=\"\n",
       "  589.219,1486.45 589.219,47.2441 \n",
       "  \"/>\n",
       "<polyline clip-path=\"url(#clip0002)\" style=\"stroke:#000000; stroke-width:2; stroke-opacity:0.1; fill:none\" points=\"\n",
       "  1030.1,1486.45 1030.1,47.2441 \n",
       "  \"/>\n",
       "<polyline clip-path=\"url(#clip0002)\" style=\"stroke:#000000; stroke-width:2; stroke-opacity:0.1; fill:none\" points=\"\n",
       "  1470.99,1486.45 1470.99,47.2441 \n",
       "  \"/>\n",
       "<polyline clip-path=\"url(#clip0002)\" style=\"stroke:#000000; stroke-width:2; stroke-opacity:0.1; fill:none\" points=\"\n",
       "  1911.87,1486.45 1911.87,47.2441 \n",
       "  \"/>\n",
       "<polyline clip-path=\"url(#clip0002)\" style=\"stroke:#000000; stroke-width:2; stroke-opacity:0.1; fill:none\" points=\"\n",
       "  2352.76,1486.45 2352.76,47.2441 \n",
       "  \"/>\n",
       "<polyline clip-path=\"url(#clip0002)\" style=\"stroke:#000000; stroke-width:2; stroke-opacity:0.1; fill:none\" points=\"\n",
       "  148.334,1486.45 2352.76,1486.45 \n",
       "  \"/>\n",
       "<polyline clip-path=\"url(#clip0002)\" style=\"stroke:#000000; stroke-width:2; stroke-opacity:0.1; fill:none\" points=\"\n",
       "  148.334,1198.61 2352.76,1198.61 \n",
       "  \"/>\n",
       "<polyline clip-path=\"url(#clip0002)\" style=\"stroke:#000000; stroke-width:2; stroke-opacity:0.1; fill:none\" points=\"\n",
       "  148.334,910.766 2352.76,910.766 \n",
       "  \"/>\n",
       "<polyline clip-path=\"url(#clip0002)\" style=\"stroke:#000000; stroke-width:2; stroke-opacity:0.1; fill:none\" points=\"\n",
       "  148.334,622.926 2352.76,622.926 \n",
       "  \"/>\n",
       "<polyline clip-path=\"url(#clip0002)\" style=\"stroke:#000000; stroke-width:2; stroke-opacity:0.1; fill:none\" points=\"\n",
       "  148.334,335.085 2352.76,335.085 \n",
       "  \"/>\n",
       "<polyline clip-path=\"url(#clip0002)\" style=\"stroke:#000000; stroke-width:2; stroke-opacity:0.1; fill:none\" points=\"\n",
       "  148.334,47.2441 2352.76,47.2441 \n",
       "  \"/>\n",
       "<polyline clip-path=\"url(#clip0000)\" style=\"stroke:#000000; stroke-width:4; stroke-opacity:1; fill:none\" points=\"\n",
       "  148.334,1486.45 2352.76,1486.45 \n",
       "  \"/>\n",
       "<polyline clip-path=\"url(#clip0000)\" style=\"stroke:#000000; stroke-width:4; stroke-opacity:1; fill:none\" points=\"\n",
       "  148.334,1486.45 148.334,47.2441 \n",
       "  \"/>\n",
       "<polyline clip-path=\"url(#clip0000)\" style=\"stroke:#000000; stroke-width:4; stroke-opacity:1; fill:none\" points=\"\n",
       "  148.334,1486.45 148.334,1469.18 \n",
       "  \"/>\n",
       "<polyline clip-path=\"url(#clip0000)\" style=\"stroke:#000000; stroke-width:4; stroke-opacity:1; fill:none\" points=\"\n",
       "  589.219,1486.45 589.219,1469.18 \n",
       "  \"/>\n",
       "<polyline clip-path=\"url(#clip0000)\" style=\"stroke:#000000; stroke-width:4; stroke-opacity:1; fill:none\" points=\"\n",
       "  1030.1,1486.45 1030.1,1469.18 \n",
       "  \"/>\n",
       "<polyline clip-path=\"url(#clip0000)\" style=\"stroke:#000000; stroke-width:4; stroke-opacity:1; fill:none\" points=\"\n",
       "  1470.99,1486.45 1470.99,1469.18 \n",
       "  \"/>\n",
       "<polyline clip-path=\"url(#clip0000)\" style=\"stroke:#000000; stroke-width:4; stroke-opacity:1; fill:none\" points=\"\n",
       "  1911.87,1486.45 1911.87,1469.18 \n",
       "  \"/>\n",
       "<polyline clip-path=\"url(#clip0000)\" style=\"stroke:#000000; stroke-width:4; stroke-opacity:1; fill:none\" points=\"\n",
       "  2352.76,1486.45 2352.76,1469.18 \n",
       "  \"/>\n",
       "<polyline clip-path=\"url(#clip0000)\" style=\"stroke:#000000; stroke-width:4; stroke-opacity:1; fill:none\" points=\"\n",
       "  148.334,1486.45 174.787,1486.45 \n",
       "  \"/>\n",
       "<polyline clip-path=\"url(#clip0000)\" style=\"stroke:#000000; stroke-width:4; stroke-opacity:1; fill:none\" points=\"\n",
       "  148.334,1198.61 174.787,1198.61 \n",
       "  \"/>\n",
       "<polyline clip-path=\"url(#clip0000)\" style=\"stroke:#000000; stroke-width:4; stroke-opacity:1; fill:none\" points=\"\n",
       "  148.334,910.766 174.787,910.766 \n",
       "  \"/>\n",
       "<polyline clip-path=\"url(#clip0000)\" style=\"stroke:#000000; stroke-width:4; stroke-opacity:1; fill:none\" points=\"\n",
       "  148.334,622.926 174.787,622.926 \n",
       "  \"/>\n",
       "<polyline clip-path=\"url(#clip0000)\" style=\"stroke:#000000; stroke-width:4; stroke-opacity:1; fill:none\" points=\"\n",
       "  148.334,335.085 174.787,335.085 \n",
       "  \"/>\n",
       "<polyline clip-path=\"url(#clip0000)\" style=\"stroke:#000000; stroke-width:4; stroke-opacity:1; fill:none\" points=\"\n",
       "  148.334,47.2441 174.787,47.2441 \n",
       "  \"/>\n",
       "<path clip-path=\"url(#clip0000)\" d=\"M 0 0 M129.851 1508.44 Q126.24 1508.44 124.411 1512 Q122.605 1515.55 122.605 1522.67 Q122.605 1529.78 124.411 1533.35 Q126.24 1536.89 129.851 1536.89 Q133.485 1536.89 135.29 1533.35 Q137.119 1529.78 137.119 1522.67 Q137.119 1515.55 135.29 1512 Q133.485 1508.44 129.851 1508.44 M129.851 1504.73 Q135.661 1504.73 138.716 1509.34 Q141.795 1513.92 141.795 1522.67 Q141.795 1531.4 138.716 1536.01 Q135.661 1540.59 129.851 1540.59 Q124.041 1540.59 120.962 1536.01 Q117.906 1531.4 117.906 1522.67 Q117.906 1513.92 120.962 1509.34 Q124.041 1504.73 129.851 1504.73 Z\" fill=\"#000000\" fill-rule=\"evenodd\" fill-opacity=\"1\" /><path clip-path=\"url(#clip0000)\" d=\"M 0 0 M146.864 1534.04 L151.749 1534.04 L151.749 1539.92 L146.864 1539.92 L146.864 1534.04 Z\" fill=\"#000000\" fill-rule=\"evenodd\" fill-opacity=\"1\" /><path clip-path=\"url(#clip0000)\" d=\"M 0 0 M166.818 1508.44 Q163.207 1508.44 161.378 1512 Q159.573 1515.55 159.573 1522.67 Q159.573 1529.78 161.378 1533.35 Q163.207 1536.89 166.818 1536.89 Q170.452 1536.89 172.258 1533.35 Q174.087 1529.78 174.087 1522.67 Q174.087 1515.55 172.258 1512 Q170.452 1508.44 166.818 1508.44 M166.818 1504.73 Q172.628 1504.73 175.684 1509.34 Q178.762 1513.92 178.762 1522.67 Q178.762 1531.4 175.684 1536.01 Q172.628 1540.59 166.818 1540.59 Q161.008 1540.59 157.929 1536.01 Q154.874 1531.4 154.874 1522.67 Q154.874 1513.92 157.929 1509.34 Q161.008 1504.73 166.818 1504.73 Z\" fill=\"#000000\" fill-rule=\"evenodd\" fill-opacity=\"1\" /><path clip-path=\"url(#clip0000)\" d=\"M 0 0 M571.534 1508.44 Q567.923 1508.44 566.094 1512 Q564.288 1515.55 564.288 1522.67 Q564.288 1529.78 566.094 1533.35 Q567.923 1536.89 571.534 1536.89 Q575.168 1536.89 576.973 1533.35 Q578.802 1529.78 578.802 1522.67 Q578.802 1515.55 576.973 1512 Q575.168 1508.44 571.534 1508.44 M571.534 1504.73 Q577.344 1504.73 580.399 1509.34 Q583.478 1513.92 583.478 1522.67 Q583.478 1531.4 580.399 1536.01 Q577.344 1540.59 571.534 1540.59 Q565.723 1540.59 562.645 1536.01 Q559.589 1531.4 559.589 1522.67 Q559.589 1513.92 562.645 1509.34 Q565.723 1504.73 571.534 1504.73 Z\" fill=\"#000000\" fill-rule=\"evenodd\" fill-opacity=\"1\" /><path clip-path=\"url(#clip0000)\" d=\"M 0 0 M588.547 1534.04 L593.432 1534.04 L593.432 1539.92 L588.547 1539.92 L588.547 1534.04 Z\" fill=\"#000000\" fill-rule=\"evenodd\" fill-opacity=\"1\" /><path clip-path=\"url(#clip0000)\" d=\"M 0 0 M602.529 1535.98 L618.848 1535.98 L618.848 1539.92 L596.904 1539.92 L596.904 1535.98 Q599.566 1533.23 604.149 1528.6 Q608.756 1523.95 609.936 1522.61 Q612.182 1520.08 613.061 1518.35 Q613.964 1516.59 613.964 1514.9 Q613.964 1512.14 612.019 1510.41 Q610.098 1508.67 606.996 1508.67 Q604.797 1508.67 602.344 1509.43 Q599.913 1510.2 597.135 1511.75 L597.135 1507.03 Q599.959 1505.89 602.413 1505.31 Q604.867 1504.73 606.904 1504.73 Q612.274 1504.73 615.469 1507.42 Q618.663 1510.11 618.663 1514.6 Q618.663 1516.73 617.853 1518.65 Q617.066 1520.54 614.959 1523.14 Q614.381 1523.81 611.279 1527.03 Q608.177 1530.22 602.529 1535.98 Z\" fill=\"#000000\" fill-rule=\"evenodd\" fill-opacity=\"1\" /><path clip-path=\"url(#clip0000)\" d=\"M 0 0 M1011.38 1508.44 Q1007.77 1508.44 1005.94 1512 Q1004.13 1515.55 1004.13 1522.67 Q1004.13 1529.78 1005.94 1533.35 Q1007.77 1536.89 1011.38 1536.89 Q1015.01 1536.89 1016.82 1533.35 Q1018.64 1529.78 1018.64 1522.67 Q1018.64 1515.55 1016.82 1512 Q1015.01 1508.44 1011.38 1508.44 M1011.38 1504.73 Q1017.19 1504.73 1020.24 1509.34 Q1023.32 1513.92 1023.32 1522.67 Q1023.32 1531.4 1020.24 1536.01 Q1017.19 1540.59 1011.38 1540.59 Q1005.57 1540.59 1002.49 1536.01 Q999.432 1531.4 999.432 1522.67 Q999.432 1513.92 1002.49 1509.34 Q1005.57 1504.73 1011.38 1504.73 Z\" fill=\"#000000\" fill-rule=\"evenodd\" fill-opacity=\"1\" /><path clip-path=\"url(#clip0000)\" d=\"M 0 0 M1028.39 1534.04 L1033.27 1534.04 L1033.27 1539.92 L1028.39 1539.92 L1028.39 1534.04 Z\" fill=\"#000000\" fill-rule=\"evenodd\" fill-opacity=\"1\" /><path clip-path=\"url(#clip0000)\" d=\"M 0 0 M1051.19 1509.43 L1039.39 1527.88 L1051.19 1527.88 L1051.19 1509.43 M1049.96 1505.36 L1055.84 1505.36 L1055.84 1527.88 L1060.77 1527.88 L1060.77 1531.77 L1055.84 1531.77 L1055.84 1539.92 L1051.19 1539.92 L1051.19 1531.77 L1035.59 1531.77 L1035.59 1527.26 L1049.96 1505.36 Z\" fill=\"#000000\" fill-rule=\"evenodd\" fill-opacity=\"1\" /><path clip-path=\"url(#clip0000)\" d=\"M 0 0 M1452.42 1508.44 Q1448.81 1508.44 1446.98 1512 Q1445.18 1515.55 1445.18 1522.67 Q1445.18 1529.78 1446.98 1533.35 Q1448.81 1536.89 1452.42 1536.89 Q1456.06 1536.89 1457.86 1533.35 Q1459.69 1529.78 1459.69 1522.67 Q1459.69 1515.55 1457.86 1512 Q1456.06 1508.44 1452.42 1508.44 M1452.42 1504.73 Q1458.23 1504.73 1461.29 1509.34 Q1464.37 1513.92 1464.37 1522.67 Q1464.37 1531.4 1461.29 1536.01 Q1458.23 1540.59 1452.42 1540.59 Q1446.61 1540.59 1443.53 1536.01 Q1440.48 1531.4 1440.48 1522.67 Q1440.48 1513.92 1443.53 1509.34 Q1446.61 1504.73 1452.42 1504.73 Z\" fill=\"#000000\" fill-rule=\"evenodd\" fill-opacity=\"1\" /><path clip-path=\"url(#clip0000)\" d=\"M 0 0 M1469.44 1534.04 L1474.32 1534.04 L1474.32 1539.92 L1469.44 1539.92 L1469.44 1534.04 Z\" fill=\"#000000\" fill-rule=\"evenodd\" fill-opacity=\"1\" /><path clip-path=\"url(#clip0000)\" d=\"M 0 0 M1489.97 1520.78 Q1486.82 1520.78 1484.97 1522.93 Q1483.14 1525.08 1483.14 1528.83 Q1483.14 1532.56 1484.97 1534.73 Q1486.82 1536.89 1489.97 1536.89 Q1493.12 1536.89 1494.95 1534.73 Q1496.8 1532.56 1496.8 1528.83 Q1496.8 1525.08 1494.95 1522.93 Q1493.12 1520.78 1489.97 1520.78 M1499.25 1506.12 L1499.25 1510.38 Q1497.49 1509.55 1495.69 1509.11 Q1493.9 1508.67 1492.14 1508.67 Q1487.51 1508.67 1485.06 1511.8 Q1482.63 1514.92 1482.28 1521.24 Q1483.65 1519.23 1485.71 1518.16 Q1487.77 1517.07 1490.25 1517.07 Q1495.45 1517.07 1498.46 1520.24 Q1501.5 1523.39 1501.5 1528.83 Q1501.5 1534.16 1498.35 1537.37 Q1495.2 1540.59 1489.97 1540.59 Q1483.97 1540.59 1480.8 1536.01 Q1477.63 1531.4 1477.63 1522.67 Q1477.63 1514.48 1481.52 1509.62 Q1485.41 1504.73 1491.96 1504.73 Q1493.72 1504.73 1495.5 1505.08 Q1497.31 1505.43 1499.25 1506.12 Z\" fill=\"#000000\" fill-rule=\"evenodd\" fill-opacity=\"1\" /><path clip-path=\"url(#clip0000)\" d=\"M 0 0 M1893.43 1508.44 Q1889.82 1508.44 1887.99 1512 Q1886.19 1515.55 1886.19 1522.67 Q1886.19 1529.78 1887.99 1533.35 Q1889.82 1536.89 1893.43 1536.89 Q1897.07 1536.89 1898.87 1533.35 Q1900.7 1529.78 1900.7 1522.67 Q1900.7 1515.55 1898.87 1512 Q1897.07 1508.44 1893.43 1508.44 M1893.43 1504.73 Q1899.24 1504.73 1902.3 1509.34 Q1905.38 1513.92 1905.38 1522.67 Q1905.38 1531.4 1902.3 1536.01 Q1899.24 1540.59 1893.43 1540.59 Q1887.62 1540.59 1884.55 1536.01 Q1881.49 1531.4 1881.49 1522.67 Q1881.49 1513.92 1884.55 1509.34 Q1887.62 1504.73 1893.43 1504.73 Z\" fill=\"#000000\" fill-rule=\"evenodd\" fill-opacity=\"1\" /><path clip-path=\"url(#clip0000)\" d=\"M 0 0 M1910.45 1534.04 L1915.33 1534.04 L1915.33 1539.92 L1910.45 1539.92 L1910.45 1534.04 Z\" fill=\"#000000\" fill-rule=\"evenodd\" fill-opacity=\"1\" /><path clip-path=\"url(#clip0000)\" d=\"M 0 0 M1930.4 1523.51 Q1927.07 1523.51 1925.15 1525.29 Q1923.25 1527.07 1923.25 1530.2 Q1923.25 1533.32 1925.15 1535.11 Q1927.07 1536.89 1930.4 1536.89 Q1933.73 1536.89 1935.66 1535.11 Q1937.58 1533.3 1937.58 1530.2 Q1937.58 1527.07 1935.66 1525.29 Q1933.76 1523.51 1930.4 1523.51 M1925.73 1521.52 Q1922.72 1520.78 1921.03 1518.72 Q1919.36 1516.66 1919.36 1513.69 Q1919.36 1509.55 1922.3 1507.14 Q1925.26 1504.73 1930.4 1504.73 Q1935.56 1504.73 1938.5 1507.14 Q1941.44 1509.55 1941.44 1513.69 Q1941.44 1516.66 1939.75 1518.72 Q1938.09 1520.78 1935.1 1521.52 Q1938.48 1522.3 1940.36 1524.6 Q1942.25 1526.89 1942.25 1530.2 Q1942.25 1535.22 1939.17 1537.91 Q1936.12 1540.59 1930.4 1540.59 Q1924.68 1540.59 1921.61 1537.91 Q1918.55 1535.22 1918.55 1530.2 Q1918.55 1526.89 1920.45 1524.6 Q1922.35 1522.3 1925.73 1521.52 M1924.01 1514.13 Q1924.01 1516.82 1925.68 1518.32 Q1927.37 1519.83 1930.4 1519.83 Q1933.41 1519.83 1935.1 1518.32 Q1936.81 1516.82 1936.81 1514.13 Q1936.81 1511.45 1935.1 1509.94 Q1933.41 1508.44 1930.4 1508.44 Q1927.37 1508.44 1925.68 1509.94 Q1924.01 1511.45 1924.01 1514.13 Z\" fill=\"#000000\" fill-rule=\"evenodd\" fill-opacity=\"1\" /><path clip-path=\"url(#clip0000)\" d=\"M 0 0 M2324.65 1535.98 L2332.29 1535.98 L2332.29 1509.62 L2323.98 1511.29 L2323.98 1507.03 L2332.25 1505.36 L2336.92 1505.36 L2336.92 1535.98 L2344.56 1535.98 L2344.56 1539.92 L2324.65 1539.92 L2324.65 1535.98 Z\" fill=\"#000000\" fill-rule=\"evenodd\" fill-opacity=\"1\" /><path clip-path=\"url(#clip0000)\" d=\"M 0 0 M2349.63 1534.04 L2354.52 1534.04 L2354.52 1539.92 L2349.63 1539.92 L2349.63 1534.04 Z\" fill=\"#000000\" fill-rule=\"evenodd\" fill-opacity=\"1\" /><path clip-path=\"url(#clip0000)\" d=\"M 0 0 M2369.58 1508.44 Q2365.97 1508.44 2364.14 1512 Q2362.34 1515.55 2362.34 1522.67 Q2362.34 1529.78 2364.14 1533.35 Q2365.97 1536.89 2369.58 1536.89 Q2373.22 1536.89 2375.02 1533.35 Q2376.85 1529.78 2376.85 1522.67 Q2376.85 1515.55 2375.02 1512 Q2373.22 1508.44 2369.58 1508.44 M2369.58 1504.73 Q2375.39 1504.73 2378.45 1509.34 Q2381.53 1513.92 2381.53 1522.67 Q2381.53 1531.4 2378.45 1536.01 Q2375.39 1540.59 2369.58 1540.59 Q2363.77 1540.59 2360.7 1536.01 Q2357.64 1531.4 2357.64 1522.67 Q2357.64 1513.92 2360.7 1509.34 Q2363.77 1504.73 2369.58 1504.73 Z\" fill=\"#000000\" fill-rule=\"evenodd\" fill-opacity=\"1\" /><path clip-path=\"url(#clip0000)\" d=\"M 0 0 M75.4226 1472.25 Q71.8115 1472.25 69.9828 1475.81 Q68.1773 1479.35 68.1773 1486.48 Q68.1773 1493.59 69.9828 1497.15 Q71.8115 1500.7 75.4226 1500.7 Q79.0569 1500.7 80.8624 1497.15 Q82.6911 1493.59 82.6911 1486.48 Q82.6911 1479.35 80.8624 1475.81 Q79.0569 1472.25 75.4226 1472.25 M75.4226 1468.54 Q81.2328 1468.54 84.2883 1473.15 Q87.367 1477.73 87.367 1486.48 Q87.367 1495.21 84.2883 1499.82 Q81.2328 1504.4 75.4226 1504.4 Q69.6125 1504.4 66.5338 1499.82 Q63.4782 1495.21 63.4782 1486.48 Q63.4782 1477.73 66.5338 1473.15 Q69.6125 1468.54 75.4226 1468.54 Z\" fill=\"#000000\" fill-rule=\"evenodd\" fill-opacity=\"1\" /><path clip-path=\"url(#clip0000)\" d=\"M 0 0 M92.4364 1497.85 L97.3206 1497.85 L97.3206 1503.73 L92.4364 1503.73 L92.4364 1497.85 Z\" fill=\"#000000\" fill-rule=\"evenodd\" fill-opacity=\"1\" /><path clip-path=\"url(#clip0000)\" d=\"M 0 0 M112.39 1472.25 Q108.779 1472.25 106.95 1475.81 Q105.145 1479.35 105.145 1486.48 Q105.145 1493.59 106.95 1497.15 Q108.779 1500.7 112.39 1500.7 Q116.024 1500.7 117.83 1497.15 Q119.658 1493.59 119.658 1486.48 Q119.658 1479.35 117.83 1475.81 Q116.024 1472.25 112.39 1472.25 M112.39 1468.54 Q118.2 1468.54 121.256 1473.15 Q124.334 1477.73 124.334 1486.48 Q124.334 1495.21 121.256 1499.82 Q118.2 1504.4 112.39 1504.4 Q106.58 1504.4 103.501 1499.82 Q100.446 1495.21 100.446 1486.48 Q100.446 1477.73 103.501 1473.15 Q106.58 1468.54 112.39 1468.54 Z\" fill=\"#000000\" fill-rule=\"evenodd\" fill-opacity=\"1\" /><path clip-path=\"url(#clip0000)\" d=\"M 0 0 M77.0198 1184.41 Q73.4087 1184.41 71.58 1187.97 Q69.7745 1191.51 69.7745 1198.64 Q69.7745 1205.75 71.58 1209.31 Q73.4087 1212.85 77.0198 1212.85 Q80.6541 1212.85 82.4596 1209.31 Q84.2883 1205.75 84.2883 1198.64 Q84.2883 1191.51 82.4596 1187.97 Q80.6541 1184.41 77.0198 1184.41 M77.0198 1180.7 Q82.83 1180.7 85.8855 1185.31 Q88.9642 1189.89 88.9642 1198.64 Q88.9642 1207.37 85.8855 1211.98 Q82.83 1216.56 77.0198 1216.56 Q71.2097 1216.56 68.131 1211.98 Q65.0754 1207.37 65.0754 1198.64 Q65.0754 1189.89 68.131 1185.31 Q71.2097 1180.7 77.0198 1180.7 Z\" fill=\"#000000\" fill-rule=\"evenodd\" fill-opacity=\"1\" /><path clip-path=\"url(#clip0000)\" d=\"M 0 0 M94.0336 1210.01 L98.9179 1210.01 L98.9179 1215.89 L94.0336 1215.89 L94.0336 1210.01 Z\" fill=\"#000000\" fill-rule=\"evenodd\" fill-opacity=\"1\" /><path clip-path=\"url(#clip0000)\" d=\"M 0 0 M108.015 1211.95 L124.334 1211.95 L124.334 1215.89 L102.39 1215.89 L102.39 1211.95 Q105.052 1209.2 109.635 1204.57 Q114.242 1199.91 115.422 1198.57 Q117.668 1196.05 118.547 1194.31 Q119.45 1192.55 119.45 1190.86 Q119.45 1188.11 117.506 1186.37 Q115.584 1184.64 112.483 1184.64 Q110.284 1184.64 107.83 1185.4 Q105.399 1186.17 102.622 1187.72 L102.622 1182.99 Q105.446 1181.86 107.899 1181.28 Q110.353 1180.7 112.39 1180.7 Q117.76 1180.7 120.955 1183.39 Q124.149 1186.07 124.149 1190.56 Q124.149 1192.69 123.339 1194.61 Q122.552 1196.51 120.446 1199.1 Q119.867 1199.78 116.765 1202.99 Q113.663 1206.19 108.015 1211.95 Z\" fill=\"#000000\" fill-rule=\"evenodd\" fill-opacity=\"1\" /><path clip-path=\"url(#clip0000)\" d=\"M 0 0 M74.9365 896.565 Q71.3254 896.565 69.4967 900.13 Q67.6912 903.671 67.6912 910.801 Q67.6912 917.908 69.4967 921.472 Q71.3254 925.014 74.9365 925.014 Q78.5707 925.014 80.3763 921.472 Q82.205 917.908 82.205 910.801 Q82.205 903.671 80.3763 900.13 Q78.5707 896.565 74.9365 896.565 M74.9365 892.861 Q80.7467 892.861 83.8022 897.468 Q86.8809 902.051 86.8809 910.801 Q86.8809 919.528 83.8022 924.134 Q80.7467 928.718 74.9365 928.718 Q69.1264 928.718 66.0477 924.134 Q62.9921 919.528 62.9921 910.801 Q62.9921 902.051 66.0477 897.468 Q69.1264 892.861 74.9365 892.861 Z\" fill=\"#000000\" fill-rule=\"evenodd\" fill-opacity=\"1\" /><path clip-path=\"url(#clip0000)\" d=\"M 0 0 M91.9503 922.167 L96.8345 922.167 L96.8345 928.046 L91.9503 928.046 L91.9503 922.167 Z\" fill=\"#000000\" fill-rule=\"evenodd\" fill-opacity=\"1\" /><path clip-path=\"url(#clip0000)\" d=\"M 0 0 M114.751 897.56 L102.946 916.009 L114.751 916.009 L114.751 897.56 M113.524 893.486 L119.404 893.486 L119.404 916.009 L124.334 916.009 L124.334 919.898 L119.404 919.898 L119.404 928.046 L114.751 928.046 L114.751 919.898 L99.1493 919.898 L99.1493 915.384 L113.524 893.486 Z\" fill=\"#000000\" fill-rule=\"evenodd\" fill-opacity=\"1\" /><path clip-path=\"url(#clip0000)\" d=\"M 0 0 M75.2606 608.724 Q71.6495 608.724 69.8208 612.289 Q68.0152 615.831 68.0152 622.96 Q68.0152 630.067 69.8208 633.632 Q71.6495 637.173 75.2606 637.173 Q78.8948 637.173 80.7004 633.632 Q82.5291 630.067 82.5291 622.96 Q82.5291 615.831 80.7004 612.289 Q78.8948 608.724 75.2606 608.724 M75.2606 605.021 Q81.0707 605.021 84.1263 609.627 Q87.205 614.21 87.205 622.96 Q87.205 631.687 84.1263 636.294 Q81.0707 640.877 75.2606 640.877 Q69.4504 640.877 66.3717 636.294 Q63.3162 631.687 63.3162 622.96 Q63.3162 614.21 66.3717 609.627 Q69.4504 605.021 75.2606 605.021 Z\" fill=\"#000000\" fill-rule=\"evenodd\" fill-opacity=\"1\" /><path clip-path=\"url(#clip0000)\" d=\"M 0 0 M92.2744 634.326 L97.1586 634.326 L97.1586 640.206 L92.2744 640.206 L92.2744 634.326 Z\" fill=\"#000000\" fill-rule=\"evenodd\" fill-opacity=\"1\" /><path clip-path=\"url(#clip0000)\" d=\"M 0 0 M112.807 621.062 Q109.659 621.062 107.807 623.215 Q105.978 625.368 105.978 629.118 Q105.978 632.845 107.807 635.02 Q109.659 637.173 112.807 637.173 Q115.955 637.173 117.783 635.02 Q119.635 632.845 119.635 629.118 Q119.635 625.368 117.783 623.215 Q115.955 621.062 112.807 621.062 M122.089 606.409 L122.089 610.669 Q120.33 609.835 118.524 609.396 Q116.742 608.956 114.983 608.956 Q110.353 608.956 107.899 612.081 Q105.469 615.206 105.122 621.525 Q106.487 619.511 108.547 618.446 Q110.608 617.359 113.084 617.359 Q118.293 617.359 121.302 620.53 Q124.334 623.678 124.334 629.118 Q124.334 634.442 121.186 637.659 Q118.038 640.877 112.807 640.877 Q106.811 640.877 103.64 636.294 Q100.469 631.687 100.469 622.96 Q100.469 614.766 104.358 609.905 Q108.247 605.021 114.797 605.021 Q116.557 605.021 118.339 605.368 Q120.145 605.715 122.089 606.409 Z\" fill=\"#000000\" fill-rule=\"evenodd\" fill-opacity=\"1\" /><path clip-path=\"url(#clip0000)\" d=\"M 0 0 M75.5152 320.884 Q71.9041 320.884 70.0754 324.448 Q68.2699 327.99 68.2699 335.12 Q68.2699 342.226 70.0754 345.791 Q71.9041 349.332 75.5152 349.332 Q79.1494 349.332 80.955 345.791 Q82.7837 342.226 82.7837 335.12 Q82.7837 327.99 80.955 324.448 Q79.1494 320.884 75.5152 320.884 M75.5152 317.18 Q81.3254 317.18 84.3809 321.786 Q87.4596 326.37 87.4596 335.12 Q87.4596 343.846 84.3809 348.453 Q81.3254 353.036 75.5152 353.036 Q69.7051 353.036 66.6264 348.453 Q63.5708 343.846 63.5708 335.12 Q63.5708 326.37 66.6264 321.786 Q69.7051 317.18 75.5152 317.18 Z\" fill=\"#000000\" fill-rule=\"evenodd\" fill-opacity=\"1\" /><path clip-path=\"url(#clip0000)\" d=\"M 0 0 M92.529 346.485 L97.4132 346.485 L97.4132 352.365 L92.529 352.365 L92.529 346.485 Z\" fill=\"#000000\" fill-rule=\"evenodd\" fill-opacity=\"1\" /><path clip-path=\"url(#clip0000)\" d=\"M 0 0 M112.483 335.953 Q109.149 335.953 107.228 337.735 Q105.33 339.518 105.33 342.643 Q105.33 345.768 107.228 347.55 Q109.149 349.332 112.483 349.332 Q115.816 349.332 117.737 347.55 Q119.658 345.745 119.658 342.643 Q119.658 339.518 117.737 337.735 Q115.839 335.953 112.483 335.953 M107.807 333.962 Q104.797 333.221 103.108 331.161 Q101.441 329.101 101.441 326.138 Q101.441 321.995 104.381 319.587 Q107.344 317.18 112.483 317.18 Q117.645 317.18 120.584 319.587 Q123.524 321.995 123.524 326.138 Q123.524 329.101 121.834 331.161 Q120.168 333.221 117.182 333.962 Q120.561 334.749 122.436 337.041 Q124.334 339.333 124.334 342.643 Q124.334 347.666 121.256 350.351 Q118.2 353.036 112.483 353.036 Q106.765 353.036 103.686 350.351 Q100.631 347.666 100.631 342.643 Q100.631 339.333 102.529 337.041 Q104.427 334.749 107.807 333.962 M106.094 326.578 Q106.094 329.263 107.76 330.768 Q109.45 332.272 112.483 332.272 Q115.492 332.272 117.182 330.768 Q118.895 329.263 118.895 326.578 Q118.895 323.893 117.182 322.388 Q115.492 320.884 112.483 320.884 Q109.45 320.884 107.76 322.388 Q106.094 323.893 106.094 326.578 Z\" fill=\"#000000\" fill-rule=\"evenodd\" fill-opacity=\"1\" /><path clip-path=\"url(#clip0000)\" d=\"M 0 0 M67.4597 60.5889 L75.0985 60.5889 L75.0985 34.2233 L66.7884 35.89 L66.7884 31.6308 L75.0522 29.9641 L79.7281 29.9641 L79.7281 60.5889 L87.367 60.5889 L87.367 64.5241 L67.4597 64.5241 L67.4597 60.5889 Z\" fill=\"#000000\" fill-rule=\"evenodd\" fill-opacity=\"1\" /><path clip-path=\"url(#clip0000)\" d=\"M 0 0 M92.4364 58.6445 L97.3206 58.6445 L97.3206 64.5241 L92.4364 64.5241 L92.4364 58.6445 Z\" fill=\"#000000\" fill-rule=\"evenodd\" fill-opacity=\"1\" /><path clip-path=\"url(#clip0000)\" d=\"M 0 0 M112.39 33.0428 Q108.779 33.0428 106.95 36.6076 Q105.145 40.1492 105.145 47.2788 Q105.145 54.3853 106.95 57.9501 Q108.779 61.4917 112.39 61.4917 Q116.024 61.4917 117.83 57.9501 Q119.658 54.3853 119.658 47.2788 Q119.658 40.1492 117.83 36.6076 Q116.024 33.0428 112.39 33.0428 M112.39 29.3391 Q118.2 29.3391 121.256 33.9456 Q124.334 38.5289 124.334 47.2788 Q124.334 56.0056 121.256 60.6121 Q118.2 65.1954 112.39 65.1954 Q106.58 65.1954 103.501 60.6121 Q100.446 56.0056 100.446 47.2788 Q100.446 38.5289 103.501 33.9456 Q106.58 29.3391 112.39 29.3391 Z\" fill=\"#000000\" fill-rule=\"evenodd\" fill-opacity=\"1\" /></svg>\n"
      ]
     },
     "execution_count": 2,
     "metadata": {},
     "output_type": "execute_result"
    }
   ],
   "source": [
    "using Plots\n",
    "p=plot()"
   ]
  },
  {
   "cell_type": "code",
   "execution_count": 32,
   "metadata": {},
   "outputs": [
    {
     "data": {
      "text/plain": [
       "100-element Array{Int64,1}:\n",
       "   1\n",
       "   2\n",
       "   3\n",
       "   4\n",
       "   5\n",
       "   6\n",
       "   7\n",
       "   8\n",
       "   9\n",
       "  10\n",
       "  11\n",
       "  12\n",
       "  13\n",
       "   ⋮\n",
       "  89\n",
       "  90\n",
       "  91\n",
       "  92\n",
       "  93\n",
       "  94\n",
       "  95\n",
       "  96\n",
       "  97\n",
       "  98\n",
       "  99\n",
       " 100"
      ]
     },
     "execution_count": 32,
     "metadata": {},
     "output_type": "execute_result"
    }
   ],
   "source": [
    "x=[i for i=1:100]"
   ]
  },
  {
   "cell_type": "code",
   "execution_count": 34,
   "metadata": {},
   "outputs": [
    {
     "data": {
      "text/plain": [
       "10-element Array{Int64,1}:\n",
       "  1\n",
       " 11\n",
       " 21\n",
       " 31\n",
       " 41\n",
       " 51\n",
       " 61\n",
       " 71\n",
       " 81\n",
       " 91"
      ]
     },
     "execution_count": 34,
     "metadata": {},
     "output_type": "execute_result"
    }
   ],
   "source": [
    "x2=x[1:10:100]"
   ]
  },
  {
   "cell_type": "code",
   "execution_count": 47,
   "metadata": {},
   "outputs": [
    {
     "data": {
      "text/plain": [
       "91"
      ]
     },
     "execution_count": 47,
     "metadata": {},
     "output_type": "execute_result"
    }
   ],
   "source": [
    "maximum(x2)"
   ]
  },
  {
   "cell_type": "code",
   "execution_count": 1,
   "metadata": {},
   "outputs": [
    {
     "data": {
      "text/plain": [
       "makeCircleVals (generic function with 2 methods)"
      ]
     },
     "execution_count": 1,
     "metadata": {},
     "output_type": "execute_result"
    }
   ],
   "source": [
    "function makeCircleVals(r,center=[0,0])\n",
    "    xOffset=center[1]\n",
    "    yOffset=center[2]\n",
    "    xVals=[r*cos(i)+xOffset for i=0:(pi/64):(2*pi)]\n",
    "    yVals=[r*sin(i)+yOffset for i=0:(pi/64):(2*pi)]\n",
    "    return xVals,yVals\n",
    "end"
   ]
  },
  {
   "cell_type": "code",
   "execution_count": 2,
   "metadata": {},
   "outputs": [
    {
     "data": {
      "text/plain": [
       "([1.0, 0.9987954562051724, 0.9951847266721969, 0.989176509964781, 0.9807852804032304, 0.970031253194544, 0.9569403357322088, 0.9415440651830208, 0.9238795325112867, 0.9039892931234433  …  0.9039892931234431, 0.9238795325112865, 0.9415440651830208, 0.9569403357322088, 0.970031253194544, 0.9807852804032303, 0.9891765099647809, 0.9951847266721969, 0.9987954562051724, 1.0], [0.0, 0.049067674327418015, 0.0980171403295606, 0.14673047445536175, 0.19509032201612825, 0.24298017990326387, 0.29028467725446233, 0.33688985339222005, 0.3826834323650898, 0.4275550934302821  …  -0.42755509343028253, -0.3826834323650904, -0.33688985339222, -0.2902846772544625, -0.24298017990326418, -0.19509032201612872, -0.1467304744553624, -0.0980171403295605, -0.04906767432741809, -2.4492935982947064e-16])"
      ]
     },
     "execution_count": 2,
     "metadata": {},
     "output_type": "execute_result"
    }
   ],
   "source": [
    "xVals,yVals=makeCircleVals(1)"
   ]
  },
  {
   "cell_type": "code",
   "execution_count": 26,
   "metadata": {},
   "outputs": [
    {
     "data": {
      "image/svg+xml": [
       "<?xml version=\"1.0\" encoding=\"utf-8\"?>\n",
       "<svg xmlns=\"http://www.w3.org/2000/svg\" xmlns:xlink=\"http://www.w3.org/1999/xlink\" width=\"600\" height=\"400\" viewBox=\"0 0 2400 1600\">\n",
       "<defs>\n",
       "  <clipPath id=\"clip9900\">\n",
       "    <rect x=\"0\" y=\"0\" width=\"2400\" height=\"1600\"/>\n",
       "  </clipPath>\n",
       "</defs>\n",
       "<path clip-path=\"url(#clip9900)\" d=\"\n",
       "M0 1600 L2400 1600 L2400 0 L0 0  Z\n",
       "  \" fill=\"#ffffff\" fill-rule=\"evenodd\" fill-opacity=\"1\"/>\n",
       "<defs>\n",
       "  <clipPath id=\"clip9901\">\n",
       "    <rect x=\"480\" y=\"0\" width=\"1681\" height=\"1600\"/>\n",
       "  </clipPath>\n",
       "</defs>\n",
       "<path clip-path=\"url(#clip9900)\" d=\"\n",
       "M162.455 1423.18 L2352.76 1423.18 L2352.76 139.22 L162.455 139.22  Z\n",
       "  \" fill=\"#ffffff\" fill-rule=\"evenodd\" fill-opacity=\"1\"/>\n",
       "<defs>\n",
       "  <clipPath id=\"clip9902\">\n",
       "    <rect x=\"162\" y=\"139\" width=\"2191\" height=\"1285\"/>\n",
       "  </clipPath>\n",
       "</defs>\n",
       "<polyline clip-path=\"url(#clip9902)\" style=\"stroke:#000000; stroke-width:2; stroke-opacity:0.1; fill:none\" points=\"\n",
       "  224.444,1423.18 224.444,139.22 \n",
       "  \"/>\n",
       "<polyline clip-path=\"url(#clip9902)\" style=\"stroke:#000000; stroke-width:2; stroke-opacity:0.1; fill:none\" points=\"\n",
       "  741.025,1423.18 741.025,139.22 \n",
       "  \"/>\n",
       "<polyline clip-path=\"url(#clip9902)\" style=\"stroke:#000000; stroke-width:2; stroke-opacity:0.1; fill:none\" points=\"\n",
       "  1257.61,1423.18 1257.61,139.22 \n",
       "  \"/>\n",
       "<polyline clip-path=\"url(#clip9902)\" style=\"stroke:#000000; stroke-width:2; stroke-opacity:0.1; fill:none\" points=\"\n",
       "  1774.19,1423.18 1774.19,139.22 \n",
       "  \"/>\n",
       "<polyline clip-path=\"url(#clip9902)\" style=\"stroke:#000000; stroke-width:2; stroke-opacity:0.1; fill:none\" points=\"\n",
       "  2290.77,1423.18 2290.77,139.22 \n",
       "  \"/>\n",
       "<polyline clip-path=\"url(#clip9902)\" style=\"stroke:#000000; stroke-width:2; stroke-opacity:0.1; fill:none\" points=\"\n",
       "  162.455,1386.84 2352.76,1386.84 \n",
       "  \"/>\n",
       "<polyline clip-path=\"url(#clip9902)\" style=\"stroke:#000000; stroke-width:2; stroke-opacity:0.1; fill:none\" points=\"\n",
       "  162.455,1084.02 2352.76,1084.02 \n",
       "  \"/>\n",
       "<polyline clip-path=\"url(#clip9902)\" style=\"stroke:#000000; stroke-width:2; stroke-opacity:0.1; fill:none\" points=\"\n",
       "  162.455,781.2 2352.76,781.2 \n",
       "  \"/>\n",
       "<polyline clip-path=\"url(#clip9902)\" style=\"stroke:#000000; stroke-width:2; stroke-opacity:0.1; fill:none\" points=\"\n",
       "  162.455,478.379 2352.76,478.379 \n",
       "  \"/>\n",
       "<polyline clip-path=\"url(#clip9902)\" style=\"stroke:#000000; stroke-width:2; stroke-opacity:0.1; fill:none\" points=\"\n",
       "  162.455,175.559 2352.76,175.559 \n",
       "  \"/>\n",
       "<polyline clip-path=\"url(#clip9900)\" style=\"stroke:#000000; stroke-width:4; stroke-opacity:1; fill:none\" points=\"\n",
       "  162.455,1423.18 2352.76,1423.18 \n",
       "  \"/>\n",
       "<polyline clip-path=\"url(#clip9900)\" style=\"stroke:#000000; stroke-width:4; stroke-opacity:1; fill:none\" points=\"\n",
       "  162.455,1423.18 162.455,139.22 \n",
       "  \"/>\n",
       "<polyline clip-path=\"url(#clip9900)\" style=\"stroke:#000000; stroke-width:4; stroke-opacity:1; fill:none\" points=\"\n",
       "  224.444,1423.18 224.444,1407.77 \n",
       "  \"/>\n",
       "<polyline clip-path=\"url(#clip9900)\" style=\"stroke:#000000; stroke-width:4; stroke-opacity:1; fill:none\" points=\"\n",
       "  741.025,1423.18 741.025,1407.77 \n",
       "  \"/>\n",
       "<polyline clip-path=\"url(#clip9900)\" style=\"stroke:#000000; stroke-width:4; stroke-opacity:1; fill:none\" points=\"\n",
       "  1257.61,1423.18 1257.61,1407.77 \n",
       "  \"/>\n",
       "<polyline clip-path=\"url(#clip9900)\" style=\"stroke:#000000; stroke-width:4; stroke-opacity:1; fill:none\" points=\"\n",
       "  1774.19,1423.18 1774.19,1407.77 \n",
       "  \"/>\n",
       "<polyline clip-path=\"url(#clip9900)\" style=\"stroke:#000000; stroke-width:4; stroke-opacity:1; fill:none\" points=\"\n",
       "  2290.77,1423.18 2290.77,1407.77 \n",
       "  \"/>\n",
       "<polyline clip-path=\"url(#clip9900)\" style=\"stroke:#000000; stroke-width:4; stroke-opacity:1; fill:none\" points=\"\n",
       "  162.455,1386.84 188.738,1386.84 \n",
       "  \"/>\n",
       "<polyline clip-path=\"url(#clip9900)\" style=\"stroke:#000000; stroke-width:4; stroke-opacity:1; fill:none\" points=\"\n",
       "  162.455,1084.02 188.738,1084.02 \n",
       "  \"/>\n",
       "<polyline clip-path=\"url(#clip9900)\" style=\"stroke:#000000; stroke-width:4; stroke-opacity:1; fill:none\" points=\"\n",
       "  162.455,781.2 188.738,781.2 \n",
       "  \"/>\n",
       "<polyline clip-path=\"url(#clip9900)\" style=\"stroke:#000000; stroke-width:4; stroke-opacity:1; fill:none\" points=\"\n",
       "  162.455,478.379 188.738,478.379 \n",
       "  \"/>\n",
       "<polyline clip-path=\"url(#clip9900)\" style=\"stroke:#000000; stroke-width:4; stroke-opacity:1; fill:none\" points=\"\n",
       "  162.455,175.559 188.738,175.559 \n",
       "  \"/>\n",
       "<path clip-path=\"url(#clip9900)\" d=\"M 0 0 M186.829 1461.77 L199.306 1461.77 L199.306 1465.56 L186.829 1465.56 L186.829 1461.77 Z\" fill=\"#000000\" fill-rule=\"evenodd\" fill-opacity=\"1\" /><path clip-path=\"url(#clip9900)\" d=\"M 0 0 M205.185 1472.72 L212.824 1472.72 L212.824 1446.35 L204.514 1448.02 L204.514 1443.76 L212.778 1442.09 L217.454 1442.09 L217.454 1472.72 L225.092 1472.72 L225.092 1476.65 L205.185 1476.65 L205.185 1472.72 Z\" fill=\"#000000\" fill-rule=\"evenodd\" fill-opacity=\"1\" /><path clip-path=\"url(#clip9900)\" d=\"M 0 0 M230.162 1470.77 L235.046 1470.77 L235.046 1476.65 L230.162 1476.65 L230.162 1470.77 Z\" fill=\"#000000\" fill-rule=\"evenodd\" fill-opacity=\"1\" /><path clip-path=\"url(#clip9900)\" d=\"M 0 0 M250.116 1445.17 Q246.504 1445.17 244.676 1448.74 Q242.87 1452.28 242.87 1459.41 Q242.87 1466.51 244.676 1470.08 Q246.504 1473.62 250.116 1473.62 Q253.75 1473.62 255.555 1470.08 Q257.384 1466.51 257.384 1459.41 Q257.384 1452.28 255.555 1448.74 Q253.75 1445.17 250.116 1445.17 M250.116 1441.47 Q255.926 1441.47 258.981 1446.07 Q262.06 1450.66 262.06 1459.41 Q262.06 1468.13 258.981 1472.74 Q255.926 1477.32 250.116 1477.32 Q244.305 1477.32 241.227 1472.74 Q238.171 1468.13 238.171 1459.41 Q238.171 1450.66 241.227 1446.07 Q244.305 1441.47 250.116 1441.47 Z\" fill=\"#000000\" fill-rule=\"evenodd\" fill-opacity=\"1\" /><path clip-path=\"url(#clip9900)\" d=\"M 0 0 M703.294 1461.77 L715.77 1461.77 L715.77 1465.56 L703.294 1465.56 L703.294 1461.77 Z\" fill=\"#000000\" fill-rule=\"evenodd\" fill-opacity=\"1\" /><path clip-path=\"url(#clip9900)\" d=\"M 0 0 M730.84 1445.17 Q727.229 1445.17 725.4 1448.74 Q723.594 1452.28 723.594 1459.41 Q723.594 1466.51 725.4 1470.08 Q727.229 1473.62 730.84 1473.62 Q734.474 1473.62 736.279 1470.08 Q738.108 1466.51 738.108 1459.41 Q738.108 1452.28 736.279 1448.74 Q734.474 1445.17 730.84 1445.17 M730.84 1441.47 Q736.65 1441.47 739.705 1446.07 Q742.784 1450.66 742.784 1459.41 Q742.784 1468.13 739.705 1472.74 Q736.65 1477.32 730.84 1477.32 Q725.03 1477.32 721.951 1472.74 Q718.895 1468.13 718.895 1459.41 Q718.895 1450.66 721.951 1446.07 Q725.03 1441.47 730.84 1441.47 Z\" fill=\"#000000\" fill-rule=\"evenodd\" fill-opacity=\"1\" /><path clip-path=\"url(#clip9900)\" d=\"M 0 0 M747.853 1470.77 L752.738 1470.77 L752.738 1476.65 L747.853 1476.65 L747.853 1470.77 Z\" fill=\"#000000\" fill-rule=\"evenodd\" fill-opacity=\"1\" /><path clip-path=\"url(#clip9900)\" d=\"M 0 0 M757.853 1442.09 L776.21 1442.09 L776.21 1446.03 L762.136 1446.03 L762.136 1454.5 Q763.154 1454.15 764.173 1453.99 Q765.191 1453.8 766.21 1453.8 Q771.997 1453.8 775.376 1456.98 Q778.756 1460.15 778.756 1465.56 Q778.756 1471.14 775.284 1474.24 Q771.812 1477.32 765.492 1477.32 Q763.316 1477.32 761.048 1476.95 Q758.803 1476.58 756.395 1475.84 L756.395 1471.14 Q758.478 1472.28 760.701 1472.83 Q762.923 1473.39 765.4 1473.39 Q769.404 1473.39 771.742 1471.28 Q774.08 1469.18 774.08 1465.56 Q774.08 1461.95 771.742 1459.85 Q769.404 1457.74 765.4 1457.74 Q763.525 1457.74 761.65 1458.16 Q759.798 1458.57 757.853 1459.45 L757.853 1442.09 Z\" fill=\"#000000\" fill-rule=\"evenodd\" fill-opacity=\"1\" /><path clip-path=\"url(#clip9900)\" d=\"M 0 0 M1239.12 1445.17 Q1235.51 1445.17 1233.68 1448.74 Q1231.88 1452.28 1231.88 1459.41 Q1231.88 1466.51 1233.68 1470.08 Q1235.51 1473.62 1239.12 1473.62 Q1242.76 1473.62 1244.56 1470.08 Q1246.39 1466.51 1246.39 1459.41 Q1246.39 1452.28 1244.56 1448.74 Q1242.76 1445.17 1239.12 1445.17 M1239.12 1441.47 Q1244.93 1441.47 1247.99 1446.07 Q1251.07 1450.66 1251.07 1459.41 Q1251.07 1468.13 1247.99 1472.74 Q1244.93 1477.32 1239.12 1477.32 Q1233.31 1477.32 1230.23 1472.74 Q1227.18 1468.13 1227.18 1459.41 Q1227.18 1450.66 1230.23 1446.07 Q1233.31 1441.47 1239.12 1441.47 Z\" fill=\"#000000\" fill-rule=\"evenodd\" fill-opacity=\"1\" /><path clip-path=\"url(#clip9900)\" d=\"M 0 0 M1256.14 1470.77 L1261.02 1470.77 L1261.02 1476.65 L1256.14 1476.65 L1256.14 1470.77 Z\" fill=\"#000000\" fill-rule=\"evenodd\" fill-opacity=\"1\" /><path clip-path=\"url(#clip9900)\" d=\"M 0 0 M1276.09 1445.17 Q1272.48 1445.17 1270.65 1448.74 Q1268.84 1452.28 1268.84 1459.41 Q1268.84 1466.51 1270.65 1470.08 Q1272.48 1473.62 1276.09 1473.62 Q1279.72 1473.62 1281.53 1470.08 Q1283.36 1466.51 1283.36 1459.41 Q1283.36 1452.28 1281.53 1448.74 Q1279.72 1445.17 1276.09 1445.17 M1276.09 1441.47 Q1281.9 1441.47 1284.95 1446.07 Q1288.03 1450.66 1288.03 1459.41 Q1288.03 1468.13 1284.95 1472.74 Q1281.9 1477.32 1276.09 1477.32 Q1270.28 1477.32 1267.2 1472.74 Q1264.14 1468.13 1264.14 1459.41 Q1264.14 1450.66 1267.2 1446.07 Q1270.28 1441.47 1276.09 1441.47 Z\" fill=\"#000000\" fill-rule=\"evenodd\" fill-opacity=\"1\" /><path clip-path=\"url(#clip9900)\" d=\"M 0 0 M1756.2 1445.17 Q1752.59 1445.17 1750.76 1448.74 Q1748.95 1452.28 1748.95 1459.41 Q1748.95 1466.51 1750.76 1470.08 Q1752.59 1473.62 1756.2 1473.62 Q1759.83 1473.62 1761.64 1470.08 Q1763.47 1466.51 1763.47 1459.41 Q1763.47 1452.28 1761.64 1448.74 Q1759.83 1445.17 1756.2 1445.17 M1756.2 1441.47 Q1762.01 1441.47 1765.07 1446.07 Q1768.14 1450.66 1768.14 1459.41 Q1768.14 1468.13 1765.07 1472.74 Q1762.01 1477.32 1756.2 1477.32 Q1750.39 1477.32 1747.31 1472.74 Q1744.26 1468.13 1744.26 1459.41 Q1744.26 1450.66 1747.31 1446.07 Q1750.39 1441.47 1756.2 1441.47 Z\" fill=\"#000000\" fill-rule=\"evenodd\" fill-opacity=\"1\" /><path clip-path=\"url(#clip9900)\" d=\"M 0 0 M1773.21 1470.77 L1778.1 1470.77 L1778.1 1476.65 L1773.21 1476.65 L1773.21 1470.77 Z\" fill=\"#000000\" fill-rule=\"evenodd\" fill-opacity=\"1\" /><path clip-path=\"url(#clip9900)\" d=\"M 0 0 M1783.21 1442.09 L1801.57 1442.09 L1801.57 1446.03 L1787.5 1446.03 L1787.5 1454.5 Q1788.51 1454.15 1789.53 1453.99 Q1790.55 1453.8 1791.57 1453.8 Q1797.36 1453.8 1800.74 1456.98 Q1804.12 1460.15 1804.12 1465.56 Q1804.12 1471.14 1800.64 1474.24 Q1797.17 1477.32 1790.85 1477.32 Q1788.68 1477.32 1786.41 1476.95 Q1784.16 1476.58 1781.76 1475.84 L1781.76 1471.14 Q1783.84 1472.28 1786.06 1472.83 Q1788.28 1473.39 1790.76 1473.39 Q1794.76 1473.39 1797.1 1471.28 Q1799.44 1469.18 1799.44 1465.56 Q1799.44 1461.95 1797.1 1459.85 Q1794.76 1457.74 1790.76 1457.74 Q1788.88 1457.74 1787.01 1458.16 Q1785.16 1458.57 1783.21 1459.45 L1783.21 1442.09 Z\" fill=\"#000000\" fill-rule=\"evenodd\" fill-opacity=\"1\" /><path clip-path=\"url(#clip9900)\" d=\"M 0 0 M2262.66 1472.72 L2270.3 1472.72 L2270.3 1446.35 L2261.99 1448.02 L2261.99 1443.76 L2270.26 1442.09 L2274.93 1442.09 L2274.93 1472.72 L2282.57 1472.72 L2282.57 1476.65 L2262.66 1476.65 L2262.66 1472.72 Z\" fill=\"#000000\" fill-rule=\"evenodd\" fill-opacity=\"1\" /><path clip-path=\"url(#clip9900)\" d=\"M 0 0 M2287.64 1470.77 L2292.53 1470.77 L2292.53 1476.65 L2287.64 1476.65 L2287.64 1470.77 Z\" fill=\"#000000\" fill-rule=\"evenodd\" fill-opacity=\"1\" /><path clip-path=\"url(#clip9900)\" d=\"M 0 0 M2307.59 1445.17 Q2303.98 1445.17 2302.16 1448.74 Q2300.35 1452.28 2300.35 1459.41 Q2300.35 1466.51 2302.16 1470.08 Q2303.98 1473.62 2307.59 1473.62 Q2311.23 1473.62 2313.03 1470.08 Q2314.86 1466.51 2314.86 1459.41 Q2314.86 1452.28 2313.03 1448.74 Q2311.23 1445.17 2307.59 1445.17 M2307.59 1441.47 Q2313.41 1441.47 2316.46 1446.07 Q2319.54 1450.66 2319.54 1459.41 Q2319.54 1468.13 2316.46 1472.74 Q2313.41 1477.32 2307.59 1477.32 Q2301.78 1477.32 2298.71 1472.74 Q2295.65 1468.13 2295.65 1459.41 Q2295.65 1450.66 2298.71 1446.07 Q2301.78 1441.47 2307.59 1441.47 Z\" fill=\"#000000\" fill-rule=\"evenodd\" fill-opacity=\"1\" /><path clip-path=\"url(#clip9900)\" d=\"M 0 0 M63.2236 1389.24 L75.7004 1389.24 L75.7004 1393.03 L63.2236 1393.03 L63.2236 1389.24 Z\" fill=\"#000000\" fill-rule=\"evenodd\" fill-opacity=\"1\" /><path clip-path=\"url(#clip9900)\" d=\"M 0 0 M81.58 1400.19 L89.2188 1400.19 L89.2188 1373.82 L80.9087 1375.49 L80.9087 1371.23 L89.1725 1369.56 L93.8484 1369.56 L93.8484 1400.19 L101.487 1400.19 L101.487 1404.12 L81.58 1404.12 L81.58 1400.19 Z\" fill=\"#000000\" fill-rule=\"evenodd\" fill-opacity=\"1\" /><path clip-path=\"url(#clip9900)\" d=\"M 0 0 M106.557 1398.24 L111.441 1398.24 L111.441 1404.12 L106.557 1404.12 L106.557 1398.24 Z\" fill=\"#000000\" fill-rule=\"evenodd\" fill-opacity=\"1\" /><path clip-path=\"url(#clip9900)\" d=\"M 0 0 M126.51 1372.64 Q122.899 1372.64 121.071 1376.2 Q119.265 1379.75 119.265 1386.88 Q119.265 1393.98 121.071 1397.55 Q122.899 1401.09 126.51 1401.09 Q130.145 1401.09 131.95 1397.55 Q133.779 1393.98 133.779 1386.88 Q133.779 1379.75 131.95 1376.2 Q130.145 1372.64 126.51 1372.64 M126.51 1368.94 Q132.32 1368.94 135.376 1373.54 Q138.455 1378.13 138.455 1386.88 Q138.455 1395.6 135.376 1400.21 Q132.32 1404.79 126.51 1404.79 Q120.7 1404.79 117.621 1400.21 Q114.566 1395.6 114.566 1386.88 Q114.566 1378.13 117.621 1373.54 Q120.7 1368.94 126.51 1368.94 Z\" fill=\"#000000\" fill-rule=\"evenodd\" fill-opacity=\"1\" /><path clip-path=\"url(#clip9900)\" d=\"M 0 0 M62.9921 1086.42 L75.4689 1086.42 L75.4689 1090.21 L62.9921 1090.21 L62.9921 1086.42 Z\" fill=\"#000000\" fill-rule=\"evenodd\" fill-opacity=\"1\" /><path clip-path=\"url(#clip9900)\" d=\"M 0 0 M90.5383 1069.82 Q86.9272 1069.82 85.0985 1073.38 Q83.2929 1076.93 83.2929 1084.06 Q83.2929 1091.16 85.0985 1094.73 Q86.9272 1098.27 90.5383 1098.27 Q94.1725 1098.27 95.9781 1094.73 Q97.8068 1091.16 97.8068 1084.06 Q97.8068 1076.93 95.9781 1073.38 Q94.1725 1069.82 90.5383 1069.82 M90.5383 1066.12 Q96.3484 1066.12 99.404 1070.72 Q102.483 1075.31 102.483 1084.06 Q102.483 1092.78 99.404 1097.39 Q96.3484 1101.97 90.5383 1101.97 Q84.7281 1101.97 81.6494 1097.39 Q78.5939 1092.78 78.5939 1084.06 Q78.5939 1075.31 81.6494 1070.72 Q84.7281 1066.12 90.5383 1066.12 Z\" fill=\"#000000\" fill-rule=\"evenodd\" fill-opacity=\"1\" /><path clip-path=\"url(#clip9900)\" d=\"M 0 0 M107.552 1095.42 L112.436 1095.42 L112.436 1101.3 L107.552 1101.3 L107.552 1095.42 Z\" fill=\"#000000\" fill-rule=\"evenodd\" fill-opacity=\"1\" /><path clip-path=\"url(#clip9900)\" d=\"M 0 0 M117.552 1066.74 L135.908 1066.74 L135.908 1070.68 L121.834 1070.68 L121.834 1079.15 Q122.853 1078.8 123.871 1078.64 Q124.89 1078.45 125.908 1078.45 Q131.695 1078.45 135.075 1081.62 Q138.455 1084.8 138.455 1090.21 Q138.455 1095.79 134.982 1098.89 Q131.51 1101.97 125.191 1101.97 Q123.015 1101.97 120.746 1101.6 Q118.501 1101.23 116.094 1100.49 L116.094 1095.79 Q118.177 1096.93 120.399 1097.48 Q122.621 1098.04 125.098 1098.04 Q129.103 1098.04 131.441 1095.93 Q133.779 1093.82 133.779 1090.21 Q133.779 1086.6 131.441 1084.5 Q129.103 1082.39 125.098 1082.39 Q123.223 1082.39 121.348 1082.81 Q119.496 1083.22 117.552 1084.1 L117.552 1066.74 Z\" fill=\"#000000\" fill-rule=\"evenodd\" fill-opacity=\"1\" /><path clip-path=\"url(#clip9900)\" d=\"M 0 0 M89.5429 766.999 Q85.9318 766.999 84.1031 770.563 Q82.2976 774.105 82.2976 781.235 Q82.2976 788.341 84.1031 791.906 Q85.9318 795.448 89.5429 795.448 Q93.1771 795.448 94.9827 791.906 Q96.8114 788.341 96.8114 781.235 Q96.8114 774.105 94.9827 770.563 Q93.1771 766.999 89.5429 766.999 M89.5429 763.295 Q95.3531 763.295 98.4086 767.901 Q101.487 772.485 101.487 781.235 Q101.487 789.962 98.4086 794.568 Q95.3531 799.151 89.5429 799.151 Q83.7328 799.151 80.6541 794.568 Q77.5985 789.962 77.5985 781.235 Q77.5985 772.485 80.6541 767.901 Q83.7328 763.295 89.5429 763.295 Z\" fill=\"#000000\" fill-rule=\"evenodd\" fill-opacity=\"1\" /><path clip-path=\"url(#clip9900)\" d=\"M 0 0 M106.557 792.6 L111.441 792.6 L111.441 798.48 L106.557 798.48 L106.557 792.6 Z\" fill=\"#000000\" fill-rule=\"evenodd\" fill-opacity=\"1\" /><path clip-path=\"url(#clip9900)\" d=\"M 0 0 M126.51 766.999 Q122.899 766.999 121.071 770.563 Q119.265 774.105 119.265 781.235 Q119.265 788.341 121.071 791.906 Q122.899 795.448 126.51 795.448 Q130.145 795.448 131.95 791.906 Q133.779 788.341 133.779 781.235 Q133.779 774.105 131.95 770.563 Q130.145 766.999 126.51 766.999 M126.51 763.295 Q132.32 763.295 135.376 767.901 Q138.455 772.485 138.455 781.235 Q138.455 789.962 135.376 794.568 Q132.32 799.151 126.51 799.151 Q120.7 799.151 117.621 794.568 Q114.566 789.962 114.566 781.235 Q114.566 772.485 117.621 767.901 Q120.7 763.295 126.51 763.295 Z\" fill=\"#000000\" fill-rule=\"evenodd\" fill-opacity=\"1\" /><path clip-path=\"url(#clip9900)\" d=\"M 0 0 M90.5383 464.178 Q86.9272 464.178 85.0985 467.743 Q83.2929 471.284 83.2929 478.414 Q83.2929 485.52 85.0985 489.085 Q86.9272 492.627 90.5383 492.627 Q94.1725 492.627 95.9781 489.085 Q97.8068 485.52 97.8068 478.414 Q97.8068 471.284 95.9781 467.743 Q94.1725 464.178 90.5383 464.178 M90.5383 460.474 Q96.3484 460.474 99.404 465.081 Q102.483 469.664 102.483 478.414 Q102.483 487.141 99.404 491.747 Q96.3484 496.331 90.5383 496.331 Q84.7281 496.331 81.6494 491.747 Q78.5939 487.141 78.5939 478.414 Q78.5939 469.664 81.6494 465.081 Q84.7281 460.474 90.5383 460.474 Z\" fill=\"#000000\" fill-rule=\"evenodd\" fill-opacity=\"1\" /><path clip-path=\"url(#clip9900)\" d=\"M 0 0 M107.552 489.78 L112.436 489.78 L112.436 495.659 L107.552 495.659 L107.552 489.78 Z\" fill=\"#000000\" fill-rule=\"evenodd\" fill-opacity=\"1\" /><path clip-path=\"url(#clip9900)\" d=\"M 0 0 M117.552 461.099 L135.908 461.099 L135.908 465.034 L121.834 465.034 L121.834 473.507 Q122.853 473.159 123.871 472.997 Q124.89 472.812 125.908 472.812 Q131.695 472.812 135.075 475.983 Q138.455 479.155 138.455 484.571 Q138.455 490.15 134.982 493.252 Q131.51 496.331 125.191 496.331 Q123.015 496.331 120.746 495.96 Q118.501 495.59 116.094 494.849 L116.094 490.15 Q118.177 491.284 120.399 491.84 Q122.621 492.395 125.098 492.395 Q129.103 492.395 131.441 490.289 Q133.779 488.183 133.779 484.571 Q133.779 480.96 131.441 478.854 Q129.103 476.747 125.098 476.747 Q123.223 476.747 121.348 477.164 Q119.496 477.581 117.552 478.46 L117.552 461.099 Z\" fill=\"#000000\" fill-rule=\"evenodd\" fill-opacity=\"1\" /><path clip-path=\"url(#clip9900)\" d=\"M 0 0 M81.58 188.903 L89.2188 188.903 L89.2188 162.538 L80.9087 164.205 L80.9087 159.945 L89.1725 158.279 L93.8484 158.279 L93.8484 188.903 L101.487 188.903 L101.487 192.839 L81.58 192.839 L81.58 188.903 Z\" fill=\"#000000\" fill-rule=\"evenodd\" fill-opacity=\"1\" /><path clip-path=\"url(#clip9900)\" d=\"M 0 0 M106.557 186.959 L111.441 186.959 L111.441 192.839 L106.557 192.839 L106.557 186.959 Z\" fill=\"#000000\" fill-rule=\"evenodd\" fill-opacity=\"1\" /><path clip-path=\"url(#clip9900)\" d=\"M 0 0 M126.51 161.357 Q122.899 161.357 121.071 164.922 Q119.265 168.464 119.265 175.593 Q119.265 182.7 121.071 186.265 Q122.899 189.806 126.51 189.806 Q130.145 189.806 131.95 186.265 Q133.779 182.7 133.779 175.593 Q133.779 168.464 131.95 164.922 Q130.145 161.357 126.51 161.357 M126.51 157.654 Q132.32 157.654 135.376 162.26 Q138.455 166.843 138.455 175.593 Q138.455 184.32 135.376 188.927 Q132.32 193.51 126.51 193.51 Q120.7 193.51 117.621 188.927 Q114.566 184.32 114.566 175.593 Q114.566 166.843 117.621 162.26 Q120.7 157.654 126.51 157.654 Z\" fill=\"#000000\" fill-rule=\"evenodd\" fill-opacity=\"1\" /><path clip-path=\"url(#clip9900)\" d=\"M 0 0 M1214.91 45.1919 L1214.91 72.576 L1207.46 72.576 L1207.46 45.4349 Q1207.46 38.994 1204.94 35.7938 Q1202.43 32.5936 1197.41 32.5936 Q1191.37 32.5936 1187.89 36.4419 Q1184.41 40.2903 1184.41 46.9338 L1184.41 72.576 L1176.91 72.576 L1176.91 9.54393 L1184.41 9.54393 L1184.41 34.2544 Q1187.08 30.163 1190.68 28.1376 Q1194.33 26.1121 1199.07 26.1121 Q1206.89 26.1121 1210.9 30.9732 Q1214.91 35.7938 1214.91 45.1919 Z\" fill=\"#000000\" fill-rule=\"evenodd\" fill-opacity=\"1\" /><path clip-path=\"url(#clip9900)\" d=\"M 0 0 M1261.53 48.0275 L1261.53 51.6733 L1227.26 51.6733 Q1227.75 59.3701 1231.88 63.421 Q1236.05 67.4314 1243.47 67.4314 Q1247.76 67.4314 1251.77 66.3781 Q1255.82 65.3249 1259.79 63.2184 L1259.79 70.267 Q1255.78 71.9684 1251.57 72.8596 Q1247.36 73.7508 1243.02 73.7508 Q1232.17 73.7508 1225.81 67.4314 Q1219.49 61.1119 1219.49 50.3365 Q1219.49 39.1965 1225.48 32.6746 Q1231.52 26.1121 1241.73 26.1121 Q1250.88 26.1121 1256.19 32.0264 Q1261.53 37.9003 1261.53 48.0275 M1254.08 45.84 Q1254 39.7232 1250.64 36.0774 Q1247.32 32.4315 1241.81 32.4315 Q1235.57 32.4315 1231.8 35.9558 Q1228.07 39.4801 1227.51 45.8805 L1254.08 45.84 Z\" fill=\"#000000\" fill-rule=\"evenodd\" fill-opacity=\"1\" /><path clip-path=\"url(#clip9900)\" d=\"M 0 0 M1269.35 9.54393 L1276.81 9.54393 L1276.81 72.576 L1269.35 72.576 L1269.35 9.54393 Z\" fill=\"#000000\" fill-rule=\"evenodd\" fill-opacity=\"1\" /><path clip-path=\"url(#clip9900)\" d=\"M 0 0 M1284.62 9.54393 L1292.08 9.54393 L1292.08 72.576 L1284.62 72.576 L1284.62 9.54393 Z\" fill=\"#000000\" fill-rule=\"evenodd\" fill-opacity=\"1\" /><path clip-path=\"url(#clip9900)\" d=\"M 0 0 M1317.48 32.4315 Q1311.48 32.4315 1308 37.1306 Q1304.51 41.7891 1304.51 49.9314 Q1304.51 58.0738 1307.96 62.7728 Q1311.44 67.4314 1317.48 67.4314 Q1323.43 67.4314 1326.92 62.7323 Q1330.4 58.0333 1330.4 49.9314 Q1330.4 41.8701 1326.92 37.1711 Q1323.43 32.4315 1317.48 32.4315 M1317.48 26.1121 Q1327.2 26.1121 1332.75 32.4315 Q1338.3 38.7509 1338.3 49.9314 Q1338.3 61.0714 1332.75 67.4314 Q1327.2 73.7508 1317.48 73.7508 Q1307.71 73.7508 1302.17 67.4314 Q1296.66 61.0714 1296.66 49.9314 Q1296.66 38.7509 1302.17 32.4315 Q1307.71 26.1121 1317.48 26.1121 Z\" fill=\"#000000\" fill-rule=\"evenodd\" fill-opacity=\"1\" /><path clip-path=\"url(#clip9900)\" d=\"M 0 0 M1224.06 1534.53 L1224.06 1556.04 L1218.2 1556.04 L1218.2 1534.72 Q1218.2 1529.66 1216.23 1527.14 Q1214.25 1524.63 1210.31 1524.63 Q1205.57 1524.63 1202.83 1527.65 Q1200.09 1530.68 1200.09 1535.9 L1200.09 1556.04 L1194.2 1556.04 L1194.2 1506.52 L1200.09 1506.52 L1200.09 1525.93 Q1202.19 1522.72 1205.02 1521.13 Q1207.89 1519.54 1211.61 1519.54 Q1217.76 1519.54 1220.91 1523.36 Q1224.06 1527.14 1224.06 1534.53 Z\" fill=\"#000000\" fill-rule=\"evenodd\" fill-opacity=\"1\" /><path clip-path=\"url(#clip9900)\" d=\"M 0 0 M1260.69 1536.76 L1260.69 1539.62 L1233.77 1539.62 Q1234.15 1545.67 1237.39 1548.85 Q1240.67 1552 1246.5 1552 Q1249.87 1552 1253.02 1551.17 Q1256.2 1550.35 1259.32 1548.69 L1259.32 1554.23 Q1256.17 1555.57 1252.86 1556.27 Q1249.55 1556.97 1246.15 1556.97 Q1237.62 1556.97 1232.62 1552 Q1227.65 1547.04 1227.65 1538.57 Q1227.65 1529.82 1232.37 1524.69 Q1237.11 1519.54 1245.13 1519.54 Q1252.32 1519.54 1256.49 1524.18 Q1260.69 1528.8 1260.69 1536.76 M1254.84 1535.04 Q1254.77 1530.23 1252.13 1527.37 Q1249.52 1524.5 1245.19 1524.5 Q1240.29 1524.5 1237.33 1527.27 Q1234.4 1530.04 1233.96 1535.07 L1254.84 1535.04 Z\" fill=\"#000000\" fill-rule=\"evenodd\" fill-opacity=\"1\" /><path clip-path=\"url(#clip9900)\" d=\"M 0 0 M1266.84 1506.52 L1272.69 1506.52 L1272.69 1556.04 L1266.84 1556.04 L1266.84 1506.52 Z\" fill=\"#000000\" fill-rule=\"evenodd\" fill-opacity=\"1\" /><path clip-path=\"url(#clip9900)\" d=\"M 0 0 M1278.83 1506.52 L1284.69 1506.52 L1284.69 1556.04 L1278.83 1556.04 L1278.83 1506.52 Z\" fill=\"#000000\" fill-rule=\"evenodd\" fill-opacity=\"1\" /><path clip-path=\"url(#clip9900)\" d=\"M 0 0 M1304.65 1524.5 Q1299.94 1524.5 1297.2 1528.19 Q1294.46 1531.85 1294.46 1538.25 Q1294.46 1544.65 1297.17 1548.34 Q1299.91 1552 1304.65 1552 Q1309.33 1552 1312.06 1548.31 Q1314.8 1544.62 1314.8 1538.25 Q1314.8 1531.92 1312.06 1528.23 Q1309.33 1524.5 1304.65 1524.5 M1304.65 1519.54 Q1312.29 1519.54 1316.65 1524.5 Q1321.01 1529.47 1321.01 1538.25 Q1321.01 1547 1316.65 1552 Q1312.29 1556.97 1304.65 1556.97 Q1296.98 1556.97 1292.62 1552 Q1288.29 1547 1288.29 1538.25 Q1288.29 1529.47 1292.62 1524.5 Q1296.98 1519.54 1304.65 1519.54 Z\" fill=\"#000000\" fill-rule=\"evenodd\" fill-opacity=\"1\" /><path clip-path=\"url(#clip9902)\" d=\"\n",
       "M2290.77 781.2 L2289.52 751.483 L2285.79 721.837 L2279.58 692.334 L2270.91 663.045 L2259.8 634.041 L2246.28 605.392 L2230.37 577.166 L2212.12 549.431 L2191.57 522.255 \n",
       "  L2168.77 495.703 L2143.78 469.838 L2116.65 444.724 L2087.45 420.42 L2056.25 396.985 L2023.13 374.476 L1988.16 352.947 L1951.43 332.449 L1913.04 313.033 L1873.06 294.744 \n",
       "  L1831.6 277.628 L1788.76 261.724 L1744.63 247.072 L1699.34 233.707 L1652.98 221.66 L1605.67 210.962 L1557.52 201.637 L1508.64 193.709 L1459.16 187.196 L1409.2 182.114 \n",
       "  L1358.87 178.475 L1308.3 176.288 L1257.61 175.559 L1206.91 176.288 L1156.34 178.475 L1106.01 182.114 L1056.05 187.196 L1006.57 193.709 L957.695 201.637 L909.544 210.962 \n",
       "  L862.232 221.66 L815.872 233.707 L770.577 247.072 L726.454 261.724 L683.612 277.628 L642.152 294.744 L602.175 313.033 L563.777 332.449 L527.05 352.947 L492.084 374.476 \n",
       "  L458.961 396.985 L427.763 420.42 L398.563 444.724 L371.434 469.838 L346.439 495.703 L323.639 522.255 L303.089 549.431 L284.839 577.166 L268.932 605.392 L255.407 634.041 \n",
       "  L244.296 663.045 L235.627 692.334 L229.419 721.837 L225.689 751.483 L224.444 781.2 L225.689 810.917 L229.419 840.563 L235.627 870.066 L244.296 899.355 L255.407 928.359 \n",
       "  L268.932 957.008 L284.839 985.234 L303.089 1012.97 L323.639 1040.15 L346.439 1066.7 L371.434 1092.56 L398.563 1117.68 L427.763 1141.98 L458.961 1165.41 L492.084 1187.92 \n",
       "  L527.05 1209.45 L563.777 1229.95 L602.175 1249.37 L642.152 1267.66 L683.612 1284.77 L726.454 1300.68 L770.577 1315.33 L815.872 1328.69 L862.232 1340.74 L909.544 1351.44 \n",
       "  L957.695 1360.76 L1006.57 1368.69 L1056.05 1375.2 L1106.01 1380.29 L1156.34 1383.93 L1206.91 1386.11 L1257.61 1386.84 L1308.3 1386.11 L1358.87 1383.93 L1409.2 1380.29 \n",
       "  L1459.16 1375.2 L1508.64 1368.69 L1557.52 1360.76 L1605.67 1351.44 L1652.98 1340.74 L1699.34 1328.69 L1744.63 1315.33 L1788.76 1300.68 L1831.6 1284.77 L1873.06 1267.66 \n",
       "  L1913.04 1249.37 L1951.43 1229.95 L1988.16 1209.45 L2023.13 1187.92 L2056.25 1165.41 L2087.45 1141.98 L2116.65 1117.68 L2143.78 1092.56 L2168.77 1066.7 L2191.57 1040.15 \n",
       "  L2212.12 1012.97 L2230.37 985.234 L2246.28 957.008 L2259.8 928.359 L2270.91 899.355 L2279.58 870.066 L2285.79 840.563 L2289.52 810.917 L2290.77 781.2 L2290.77 781.2 \n",
       "  L2289.52 781.2 L2285.79 781.2 L2279.58 781.2 L2270.91 781.2 L2259.8 781.2 L2246.28 781.2 L2230.37 781.2 L2212.12 781.2 L2191.57 781.2 L2168.77 781.2 \n",
       "  L2143.78 781.2 L2116.65 781.2 L2087.45 781.2 L2056.25 781.2 L2023.13 781.2 L1988.16 781.2 L1951.43 781.2 L1913.04 781.2 L1873.06 781.2 L1831.6 781.2 \n",
       "  L1788.76 781.2 L1744.63 781.2 L1699.34 781.2 L1652.98 781.2 L1605.67 781.2 L1557.52 781.2 L1508.64 781.2 L1459.16 781.2 L1409.2 781.2 L1358.87 781.2 \n",
       "  L1308.3 781.2 L1257.61 781.2 L1206.91 781.2 L1156.34 781.2 L1106.01 781.2 L1056.05 781.2 L1006.57 781.2 L957.695 781.2 L909.544 781.2 L862.232 781.2 \n",
       "  L815.872 781.2 L770.577 781.2 L726.454 781.2 L683.612 781.2 L642.152 781.2 L602.175 781.2 L563.777 781.2 L527.05 781.2 L492.084 781.2 L458.961 781.2 \n",
       "  L427.763 781.2 L398.563 781.2 L371.434 781.2 L346.439 781.2 L323.639 781.2 L303.089 781.2 L284.839 781.2 L268.932 781.2 L255.407 781.2 L244.296 781.2 \n",
       "  L235.627 781.2 L229.419 781.2 L225.689 781.2 L224.444 781.2 L225.689 781.2 L229.419 781.2 L235.627 781.2 L244.296 781.2 L255.407 781.2 L268.932 781.2 \n",
       "  L284.839 781.2 L303.089 781.2 L323.639 781.2 L346.439 781.2 L371.434 781.2 L398.563 781.2 L427.763 781.2 L458.961 781.2 L492.084 781.2 L527.05 781.2 \n",
       "  L563.777 781.2 L602.175 781.2 L642.152 781.2 L683.612 781.2 L726.454 781.2 L770.577 781.2 L815.872 781.2 L862.232 781.2 L909.544 781.2 L957.695 781.2 \n",
       "  L1006.57 781.2 L1056.05 781.2 L1106.01 781.2 L1156.34 781.2 L1206.91 781.2 L1257.61 781.2 L1308.3 781.2 L1358.87 781.2 L1409.2 781.2 L1459.16 781.2 \n",
       "  L1508.64 781.2 L1557.52 781.2 L1605.67 781.2 L1652.98 781.2 L1699.34 781.2 L1744.63 781.2 L1788.76 781.2 L1831.6 781.2 L1873.06 781.2 L1913.04 781.2 \n",
       "  L1951.43 781.2 L1988.16 781.2 L2023.13 781.2 L2056.25 781.2 L2087.45 781.2 L2116.65 781.2 L2143.78 781.2 L2168.77 781.2 L2191.57 781.2 L2212.12 781.2 \n",
       "  L2230.37 781.2 L2246.28 781.2 L2259.8 781.2 L2270.91 781.2 L2279.58 781.2 L2285.79 781.2 L2289.52 781.2 L2290.77 781.2  Z\n",
       "  \" fill=\"#ff0000\" fill-rule=\"evenodd\" fill-opacity=\"1\"/>\n",
       "<polyline clip-path=\"url(#clip9902)\" style=\"stroke:#0000ff; stroke-width:4; stroke-opacity:1; fill:none\" points=\"\n",
       "  2290.77,781.2 2289.52,751.483 2285.79,721.837 2279.58,692.334 2270.91,663.045 2259.8,634.041 2246.28,605.392 2230.37,577.166 2212.12,549.431 2191.57,522.255 \n",
       "  2168.77,495.703 2143.78,469.838 2116.65,444.724 2087.45,420.42 2056.25,396.985 2023.13,374.476 1988.16,352.947 1951.43,332.449 1913.04,313.033 1873.06,294.744 \n",
       "  1831.6,277.628 1788.76,261.724 1744.63,247.072 1699.34,233.707 1652.98,221.66 1605.67,210.962 1557.52,201.637 1508.64,193.709 1459.16,187.196 1409.2,182.114 \n",
       "  1358.87,178.475 1308.3,176.288 1257.61,175.559 1206.91,176.288 1156.34,178.475 1106.01,182.114 1056.05,187.196 1006.57,193.709 957.695,201.637 909.544,210.962 \n",
       "  862.232,221.66 815.872,233.707 770.577,247.072 726.454,261.724 683.612,277.628 642.152,294.744 602.175,313.033 563.777,332.449 527.05,352.947 492.084,374.476 \n",
       "  458.961,396.985 427.763,420.42 398.563,444.724 371.434,469.838 346.439,495.703 323.639,522.255 303.089,549.431 284.839,577.166 268.932,605.392 255.407,634.041 \n",
       "  244.296,663.045 235.627,692.334 229.419,721.837 225.689,751.483 224.444,781.2 225.689,810.917 229.419,840.563 235.627,870.066 244.296,899.355 255.407,928.359 \n",
       "  268.932,957.008 284.839,985.234 303.089,1012.97 323.639,1040.15 346.439,1066.7 371.434,1092.56 398.563,1117.68 427.763,1141.98 458.961,1165.41 492.084,1187.92 \n",
       "  527.05,1209.45 563.777,1229.95 602.175,1249.37 642.152,1267.66 683.612,1284.77 726.454,1300.68 770.577,1315.33 815.872,1328.69 862.232,1340.74 909.544,1351.44 \n",
       "  957.695,1360.76 1006.57,1368.69 1056.05,1375.2 1106.01,1380.29 1156.34,1383.93 1206.91,1386.11 1257.61,1386.84 1308.3,1386.11 1358.87,1383.93 1409.2,1380.29 \n",
       "  1459.16,1375.2 1508.64,1368.69 1557.52,1360.76 1605.67,1351.44 1652.98,1340.74 1699.34,1328.69 1744.63,1315.33 1788.76,1300.68 1831.6,1284.77 1873.06,1267.66 \n",
       "  1913.04,1249.37 1951.43,1229.95 1988.16,1209.45 2023.13,1187.92 2056.25,1165.41 2087.45,1141.98 2116.65,1117.68 2143.78,1092.56 2168.77,1066.7 2191.57,1040.15 \n",
       "  2212.12,1012.97 2230.37,985.234 2246.28,957.008 2259.8,928.359 2270.91,899.355 2279.58,870.066 2285.79,840.563 2289.52,810.917 2290.77,781.2 \n",
       "  \"/>\n",
       "<path clip-path=\"url(#clip9900)\" d=\"\n",
       "M1989.74 343.7 L2280.76 343.7 L2280.76 222.74 L1989.74 222.74  Z\n",
       "  \" fill=\"#ffffff\" fill-rule=\"evenodd\" fill-opacity=\"1\"/>\n",
       "<polyline clip-path=\"url(#clip9900)\" style=\"stroke:#000000; stroke-width:4; stroke-opacity:1; fill:none\" points=\"\n",
       "  1989.74,343.7 2280.76,343.7 2280.76,222.74 1989.74,222.74 1989.74,343.7 \n",
       "  \"/>\n",
       "<path clip-path=\"url(#clip9900)\" d=\"\n",
       "M2013.74 307.412 L2157.74 307.412 L2157.74 259.028 L2013.74 259.028 L2013.74 307.412  Z\n",
       "  \" fill=\"#ff0000\" fill-rule=\"evenodd\" fill-opacity=\"1\"/>\n",
       "<polyline clip-path=\"url(#clip9900)\" style=\"stroke:#0000ff; stroke-width:4; stroke-opacity:1; fill:none\" points=\"\n",
       "  2013.74,259.028 2157.74,259.028 \n",
       "  \"/>\n",
       "<path clip-path=\"url(#clip9900)\" d=\"M 0 0 M2195.58 302.908 Q2193.77 307.537 2192.06 308.949 Q2190.35 310.361 2187.48 310.361 L2184.08 310.361 L2184.08 306.796 L2186.58 306.796 Q2188.33 306.796 2189.31 305.963 Q2190.28 305.13 2191.46 302.028 L2192.22 300.083 L2181.74 274.574 L2186.25 274.574 L2194.35 294.852 L2202.46 274.574 L2206.97 274.574 L2195.58 302.908 Z\" fill=\"#000000\" fill-rule=\"evenodd\" fill-opacity=\"1\" /><path clip-path=\"url(#clip9900)\" d=\"M 0 0 M2212.85 296.565 L2220.49 296.565 L2220.49 270.199 L2212.18 271.866 L2212.18 267.607 L2220.44 265.94 L2225.12 265.94 L2225.12 296.565 L2232.76 296.565 L2232.76 300.5 L2212.85 300.5 L2212.85 296.565 Z\" fill=\"#000000\" fill-rule=\"evenodd\" fill-opacity=\"1\" /></svg>\n"
      ]
     },
     "execution_count": 26,
     "metadata": {},
     "output_type": "execute_result"
    }
   ],
   "source": [
    "using Plots, Plots.PlotMeasures\n",
    "plot(xVals,yVals,linecolor=:blue,fill=true,fillcolor=:red)\n",
    "plot!(xlabel=\"hello\",title=\"hello\",top_margin=2mm)"
   ]
  },
  {
   "cell_type": "code",
   "execution_count": 5,
   "metadata": {},
   "outputs": [
    {
     "name": "stdout",
     "output_type": "stream",
     "text": [
      "11\n"
     ]
    }
   ],
   "source": [
    "try\n",
    "    global x,y=1,1\n",
    "catch\n",
    "    global x,y=2,2\n",
    "end\n"
   ]
  },
  {
   "cell_type": "code",
   "execution_count": 41,
   "metadata": {},
   "outputs": [],
   "source": [
    "x=[]\n",
    "for j=1:5\n",
    "    if j==1\n",
    "        for i=1:5\n",
    "            xData=[i for i=1:10]\n",
    "            yData=[i for i=1:10]\n",
    "            push!(x,[xData,yData])\n",
    "        end\n",
    "    else\n",
    "        for i=1:5\n",
    "            xData=[i for i=1:10]\n",
    "            yData=[i for i=1:10]\n",
    "            x[i][1]=vcat(x[i][1],xData)\n",
    "            x[i][2]=vcat(x[i][2],yData)\n",
    "        end\n",
    "    end\n",
    "end"
   ]
  },
  {
   "cell_type": "code",
   "execution_count": 42,
   "metadata": {},
   "outputs": [
    {
     "data": {
      "text/plain": [
       "2-element Array{Array{Int64,1},1}:\n",
       " [1, 2, 3, 4, 5, 6, 7, 8, 9, 10  …  1, 2, 3, 4, 5, 6, 7, 8, 9, 10]\n",
       " [1, 2, 3, 4, 5, 6, 7, 8, 9, 10  …  1, 2, 3, 4, 5, 6, 7, 8, 9, 10]"
      ]
     },
     "execution_count": 42,
     "metadata": {},
     "output_type": "execute_result"
    }
   ],
   "source": [
    "x[1]"
   ]
  },
  {
   "cell_type": "code",
   "execution_count": 72,
   "metadata": {},
   "outputs": [
    {
     "data": {
      "text/plain": [
       "getLims (generic function with 1 method)"
      ]
     },
     "execution_count": 72,
     "metadata": {},
     "output_type": "execute_result"
    }
   ],
   "source": [
    "function getLims(xList,yList,padding,maxFrame,oldCenter) #determines plot limits at each frame, padding in units of pos\n",
    "    xMin=minimum(xList) #where xList contains the current x position of all bodies\n",
    "    xMax=maximum(xList) #ditto but max\n",
    "    dx=xMax-xMin\n",
    "    yMin=minimum(yList) #same as above but for y\n",
    "    yMax=maximum(yList)\n",
    "    dy=yMax-yMin\n",
    "    println(\"dx = $dx; dy = $dy\")\n",
    "    horizontalExtraRatio=1920/1080 #landscape picture has extra space in x direction\n",
    "    centerX,centerY=(xMax+xMin)/2,(yMax+yMin)/2\n",
    "    if dx>=dy && dx<maxFrame\n",
    "        #use x for square\n",
    "        println(\"used x calc\")\n",
    "        xlims=[xMin-padding,xMin+dx*horizontalExtraRatio+padding]\n",
    "        ylims=[yMin-padding,yMin+dx+padding]\n",
    "    elseif dy>dx &&dy<maxFrame\n",
    "        #use y for square\n",
    "        println(\"used y calc\")\n",
    "        xlims=[xMin-padding,xMin+dy*horizontalExtraRatio+padding]\n",
    "        ylims=[yMin-padding,yMax+padding]\n",
    "    else #somebody has been ejected\n",
    "        xForCenter=[]\n",
    "        yForCenter=[]\n",
    "        for i=1:length(xList)\n",
    "            for j=(i+1):length(xList)\n",
    "                dist=sqrt((xList[i]-xList[j])^2 + (yList[i]-yList[j])^2)\n",
    "                if dist<maxFrame\n",
    "                    push!(xForCenter,(xList[i]+xList[j])/2) #exclude far away things from calculation of \"center\"\n",
    "                    push!(yForCenter,(yList[i]+yList[j])/2)\n",
    "                end\n",
    "            end\n",
    "        end\n",
    "        function getCenter(xForCenter,yForCenter,oldCenter)\n",
    "            try\n",
    "                centerX,centerY=sum(xForCenter)/length(xForCenter),sum(yForCenter)/length(yForCenter)\n",
    "                println(centerX,centerY)\n",
    "                return centerX,centerY\n",
    "            catch\n",
    "                centerX,centerY=oldCenter[1],oldCenter[2]\n",
    "                return centerX,centerY\n",
    "            end\n",
    "        end\n",
    "        centerX,centerY=getCenter(xForCenter,yForCenter,oldCenter)\n",
    "        diffX,diffY=abs(centerX-oldCenter[1]),abs(centerY-oldCenter[2])\n",
    "        maxShift=maxFrame/100 #only let the center move by 1/100th of a frame in either direction\n",
    "        if diffX>maxShift\n",
    "            centerX=centerX/abs(centerX)*maxShift #preserves direction but limits motion\n",
    "        end\n",
    "        if diffY>maxShift\n",
    "            centerY=centerY/abs(centerY)*maxShift\n",
    "        end\n",
    "        xlims=[centerX-maxFrame/2*horizontalExtraRatio-padding,centerX+maxFrame/2*horizontalExtraRatio+padding]#keep padding to be consistent w/above\n",
    "        ylims=[centerY-maxFrame/2-padding,centerY+maxFrame/2+padding]#even though it makes maxFrame not really max frame\n",
    "    end\n",
    "    return xlims,ylims,[centerX,centerY]\n",
    "end"
   ]
  },
  {
   "cell_type": "code",
   "execution_count": 78,
   "metadata": {},
   "outputs": [
    {
     "data": {
      "text/plain": [
       "5-element Array{Int64,1}:\n",
       " 0\n",
       " 0\n",
       " 0\n",
       " 0\n",
       " 0"
      ]
     },
     "execution_count": 78,
     "metadata": {},
     "output_type": "execute_result"
    }
   ],
   "source": [
    "x=[1,2,3,4,200]\n",
    "y=[0,0,0,0,0]"
   ]
  },
  {
   "cell_type": "code",
   "execution_count": 79,
   "metadata": {},
   "outputs": [
    {
     "name": "stdout",
     "output_type": "stream",
     "text": [
      "dx = 199; dy = 0\n",
      "2.50.0\n"
     ]
    },
    {
     "data": {
      "text/plain": [
       "([-87.88888888888889, 89.88888888888889], [-50.0, 50.0], [1.0, 0.0])"
      ]
     },
     "execution_count": 79,
     "metadata": {},
     "output_type": "execute_result"
    }
   ],
   "source": [
    "getLims(x,y,0,100,[0,0])"
   ]
  },
  {
   "cell_type": "code",
   "execution_count": 80,
   "metadata": {},
   "outputs": [
    {
     "data": {
      "text/plain": [
       "0"
      ]
     },
     "execution_count": 80,
     "metadata": {},
     "output_type": "execute_result"
    }
   ],
   "source": [
    "x=[]\n",
    "length(x)"
   ]
  },
  {
   "cell_type": "code",
   "execution_count": 86,
   "metadata": {},
   "outputs": [
    {
     "data": {
      "text/plain": [
       "3-element Array{Int64,1}:\n",
       " 2\n",
       " 3\n",
       " 4"
      ]
     },
     "execution_count": 86,
     "metadata": {},
     "output_type": "execute_result"
    }
   ],
   "source": [
    "test=[1,2,3,4]\n",
    "min=minimum(test)\n",
    "test=filter!(x->x!=min,test)"
   ]
  },
  {
   "cell_type": "code",
   "execution_count": 87,
   "metadata": {},
   "outputs": [
    {
     "data": {
      "text/plain": [
       "3-element Array{Int64,1}:\n",
       " 2\n",
       " 3\n",
       " 4"
      ]
     },
     "execution_count": 87,
     "metadata": {},
     "output_type": "execute_result"
    }
   ],
   "source": [
    "test"
   ]
  },
  {
   "cell_type": "code",
   "execution_count": 88,
   "metadata": {},
   "outputs": [
    {
     "data": {
      "text/plain": [
       "-1"
      ]
     },
     "execution_count": 88,
     "metadata": {},
     "output_type": "execute_result"
    }
   ],
   "source": [
    "x=-5\n",
    "sign(x)"
   ]
  },
  {
   "cell_type": "code",
   "execution_count": null,
   "metadata": {},
   "outputs": [],
   "source": []
  }
 ],
 "metadata": {
  "kernelspec": {
   "display_name": "Julia 1.4.0",
   "language": "julia",
   "name": "julia-1.4"
  },
  "language_info": {
   "file_extension": ".jl",
   "mimetype": "application/julia",
   "name": "julia",
   "version": "1.4.0"
  }
 },
 "nbformat": 4,
 "nbformat_minor": 4
}
